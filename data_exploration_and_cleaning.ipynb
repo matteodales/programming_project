{
 "cells": [
  {
   "cell_type": "code",
   "execution_count": 102,
   "metadata": {},
   "outputs": [],
   "source": [
    "import pandas as pd\n",
    "import numpy as np\n",
    "import matplotlib.pyplot as plt\n",
    "import json as js"
   ]
  },
  {
   "cell_type": "code",
   "execution_count": 103,
   "metadata": {},
   "outputs": [
    {
     "name": "stderr",
     "output_type": "stream",
     "text": [
      "C:\\Users\\dalma\\AppData\\Local\\Packages\\PythonSoftwareFoundation.Python.3.9_qbz5n2kfra8p0\\LocalCache\\local-packages\\Python39\\site-packages\\IPython\\core\\interactiveshell.py:3457: DtypeWarning: Columns (10) have mixed types.Specify dtype option on import or set low_memory=False.\n",
      "  exec(code_obj, self.user_global_ns, self.user_ns)\n"
     ]
    }
   ],
   "source": [
    "oscar_df = pd.read_csv('the_oscar_award.csv')\n",
    "metadata_df = pd.read_csv('movies_metadata.csv')"
   ]
  },
  {
   "cell_type": "code",
   "execution_count": 104,
   "metadata": {},
   "outputs": [
    {
     "name": "stdout",
     "output_type": "stream",
     "text": [
      "<class 'pandas.core.frame.DataFrame'>\n",
      "RangeIndex: 10395 entries, 0 to 10394\n",
      "Data columns (total 7 columns):\n",
      " #   Column         Non-Null Count  Dtype \n",
      "---  ------         --------------  ----- \n",
      " 0   year_film      10395 non-null  int64 \n",
      " 1   year_ceremony  10395 non-null  int64 \n",
      " 2   ceremony       10395 non-null  int64 \n",
      " 3   category       10395 non-null  object\n",
      " 4   name           10395 non-null  object\n",
      " 5   film           10091 non-null  object\n",
      " 6   winner         10395 non-null  bool  \n",
      "dtypes: bool(1), int64(3), object(3)\n",
      "memory usage: 497.5+ KB\n"
     ]
    }
   ],
   "source": [
    "oscar_df.info()"
   ]
  },
  {
   "cell_type": "markdown",
   "metadata": {},
   "source": [
    "As per Academy Awards rules, movies nominated in a given year have to be exhibited between March and December of the previous year, so the year_film and year_ceremony columns are redundant, as for every datapoint it should be:\n",
    "year_film = year_ceremony - 1\n",
    "We check that this is the case. "
   ]
  },
  {
   "cell_type": "code",
   "execution_count": 105,
   "metadata": {},
   "outputs": [
    {
     "data": {
      "text/html": [
       "<div>\n",
       "<style scoped>\n",
       "    .dataframe tbody tr th:only-of-type {\n",
       "        vertical-align: middle;\n",
       "    }\n",
       "\n",
       "    .dataframe tbody tr th {\n",
       "        vertical-align: top;\n",
       "    }\n",
       "\n",
       "    .dataframe thead th {\n",
       "        text-align: right;\n",
       "    }\n",
       "</style>\n",
       "<table border=\"1\" class=\"dataframe\">\n",
       "  <thead>\n",
       "    <tr style=\"text-align: right;\">\n",
       "      <th></th>\n",
       "      <th>year_film</th>\n",
       "      <th>year_ceremony</th>\n",
       "      <th>ceremony</th>\n",
       "      <th>category</th>\n",
       "      <th>name</th>\n",
       "      <th>film</th>\n",
       "      <th>winner</th>\n",
       "    </tr>\n",
       "  </thead>\n",
       "  <tbody>\n",
       "  </tbody>\n",
       "</table>\n",
       "</div>"
      ],
      "text/plain": [
       "Empty DataFrame\n",
       "Columns: [year_film, year_ceremony, ceremony, category, name, film, winner]\n",
       "Index: []"
      ]
     },
     "execution_count": 105,
     "metadata": {},
     "output_type": "execute_result"
    }
   ],
   "source": [
    "mask = oscar_df.year_film == (oscar_df.year_ceremony-1)\n",
    "oscar_df[~mask]"
   ]
  },
  {
   "cell_type": "markdown",
   "metadata": {},
   "source": [
    "The same argument of redundancy applies to the ceremony column. We drop these columns, keeping only year_film."
   ]
  },
  {
   "cell_type": "code",
   "execution_count": 106,
   "metadata": {},
   "outputs": [],
   "source": [
    "oscar_df = oscar_df.drop(['year_ceremony','ceremony'], axis=1)"
   ]
  },
  {
   "cell_type": "markdown",
   "metadata": {},
   "source": [
    "We see that some datapoints have null values in the 'film' column. We explore this data to find out in what categories this is happening"
   ]
  },
  {
   "cell_type": "code",
   "execution_count": 107,
   "metadata": {},
   "outputs": [
    {
     "data": {
      "text/plain": [
       "array(['ENGINEERING EFFECTS', 'WRITING (Title Writing)', 'SPECIAL AWARD',\n",
       "       'SOUND RECORDING', 'ASSISTANT DIRECTOR',\n",
       "       'IRVING G. THALBERG MEMORIAL AWARD',\n",
       "       'SPECIAL FOREIGN LANGUAGE FILM AWARD',\n",
       "       'HONORARY FOREIGN LANGUAGE FILM AWARD', 'HONORARY AWARD',\n",
       "       'JEAN HERSHOLT HUMANITARIAN AWARD', 'SPECIAL ACHIEVEMENT AWARD'],\n",
       "      dtype=object)"
      ]
     },
     "execution_count": 107,
     "metadata": {},
     "output_type": "execute_result"
    }
   ],
   "source": [
    "oscar_df[oscar_df.film.isnull()].category.unique()"
   ]
  },
  {
   "cell_type": "markdown",
   "metadata": {},
   "source": [
    "Some of these categories regard special honorary awards which are not necessarily related to a film: we are going to ignore these rows."
   ]
  },
  {
   "cell_type": "code",
   "execution_count": 108,
   "metadata": {},
   "outputs": [
    {
     "data": {
      "text/html": [
       "<div>\n",
       "<style scoped>\n",
       "    .dataframe tbody tr th:only-of-type {\n",
       "        vertical-align: middle;\n",
       "    }\n",
       "\n",
       "    .dataframe tbody tr th {\n",
       "        vertical-align: top;\n",
       "    }\n",
       "\n",
       "    .dataframe thead th {\n",
       "        text-align: right;\n",
       "    }\n",
       "</style>\n",
       "<table border=\"1\" class=\"dataframe\">\n",
       "  <thead>\n",
       "    <tr style=\"text-align: right;\">\n",
       "      <th></th>\n",
       "      <th>year_film</th>\n",
       "      <th>category</th>\n",
       "      <th>name</th>\n",
       "      <th>film</th>\n",
       "      <th>winner</th>\n",
       "    </tr>\n",
       "  </thead>\n",
       "  <tbody>\n",
       "    <tr>\n",
       "      <th>16</th>\n",
       "      <td>1927</td>\n",
       "      <td>ENGINEERING EFFECTS</td>\n",
       "      <td>Ralph Hammeras</td>\n",
       "      <td>NaN</td>\n",
       "      <td>False</td>\n",
       "    </tr>\n",
       "    <tr>\n",
       "      <th>18</th>\n",
       "      <td>1927</td>\n",
       "      <td>ENGINEERING EFFECTS</td>\n",
       "      <td>Nugent Slaughter</td>\n",
       "      <td>NaN</td>\n",
       "      <td>False</td>\n",
       "    </tr>\n",
       "    <tr>\n",
       "      <th>31</th>\n",
       "      <td>1927</td>\n",
       "      <td>WRITING (Title Writing)</td>\n",
       "      <td>Joseph Farnham</td>\n",
       "      <td>NaN</td>\n",
       "      <td>True</td>\n",
       "    </tr>\n",
       "    <tr>\n",
       "      <th>32</th>\n",
       "      <td>1927</td>\n",
       "      <td>WRITING (Title Writing)</td>\n",
       "      <td>George Marion, Jr.</td>\n",
       "      <td>NaN</td>\n",
       "      <td>False</td>\n",
       "    </tr>\n",
       "    <tr>\n",
       "      <th>145</th>\n",
       "      <td>1930</td>\n",
       "      <td>SOUND RECORDING</td>\n",
       "      <td>Samuel Goldwyn - United Artists Studio Sound D...</td>\n",
       "      <td>NaN</td>\n",
       "      <td>False</td>\n",
       "    </tr>\n",
       "  </tbody>\n",
       "</table>\n",
       "</div>"
      ],
      "text/plain": [
       "     year_film                 category  \\\n",
       "16        1927      ENGINEERING EFFECTS   \n",
       "18        1927      ENGINEERING EFFECTS   \n",
       "31        1927  WRITING (Title Writing)   \n",
       "32        1927  WRITING (Title Writing)   \n",
       "145       1930          SOUND RECORDING   \n",
       "\n",
       "                                                  name film  winner  \n",
       "16                                      Ralph Hammeras  NaN   False  \n",
       "18                                    Nugent Slaughter  NaN   False  \n",
       "31                                      Joseph Farnham  NaN    True  \n",
       "32                                  George Marion, Jr.  NaN   False  \n",
       "145  Samuel Goldwyn - United Artists Studio Sound D...  NaN   False  "
      ]
     },
     "execution_count": 108,
     "metadata": {},
     "output_type": "execute_result"
    }
   ],
   "source": [
    "mask = (oscar_df.category == 'HONORARY AWARD') | \\\n",
    "       (oscar_df.category == 'SPECIAL AWARD') | \\\n",
    "       (oscar_df.category == 'IRVING G. THALBERG MEMORIAL AWARD') | \\\n",
    "       (oscar_df.category == 'JEAN HERSHOLT HUMANITARIAN AWARD') | \\\n",
    "       (oscar_df.category == 'SPECIAL ACHIEVEMENT AWARD') | \\\n",
    "       (oscar_df.category == 'HONORARY FOREIGN LANGUAGE FILM AWARD') | \\\n",
    "       (oscar_df.category == 'SPECIAL FOREIGN LANGUAGE FILM AWARD')\n",
    "\n",
    "oscar_df = oscar_df[~mask]\n",
    "oscar_df[oscar_df.film.isnull()].head()"
   ]
  },
  {
   "cell_type": "markdown",
   "metadata": {},
   "source": [
    "As to the other 30 rows, by checking manually, we can see that the data we are looking for is also missing on the official Oscars website: it is possible, for example, that the people nominated for these categories would work on different films in the same year.\n",
    "For this reason we are going to drop these rows."
   ]
  },
  {
   "cell_type": "code",
   "execution_count": 109,
   "metadata": {},
   "outputs": [
    {
     "name": "stdout",
     "output_type": "stream",
     "text": [
      "<class 'pandas.core.frame.DataFrame'>\n",
      "Int64Index: 10091 entries, 0 to 10390\n",
      "Data columns (total 5 columns):\n",
      " #   Column     Non-Null Count  Dtype \n",
      "---  ------     --------------  ----- \n",
      " 0   year_film  10091 non-null  int64 \n",
      " 1   category   10091 non-null  object\n",
      " 2   name       10091 non-null  object\n",
      " 3   film       10091 non-null  object\n",
      " 4   winner     10091 non-null  bool  \n",
      "dtypes: bool(1), int64(1), object(3)\n",
      "memory usage: 404.0+ KB\n"
     ]
    }
   ],
   "source": [
    "oscar_df = oscar_df.dropna(subset=['film'])\n",
    "oscar_df.info()"
   ]
  },
  {
   "cell_type": "markdown",
   "metadata": {},
   "source": [
    "The analysis we are going to perform is focused on the films. For this reason we are going to drop the name and category columns and group by the data based on the film, creating two columns counting the number of nomination and the number of wins for each film."
   ]
  },
  {
   "cell_type": "code",
   "execution_count": 110,
   "metadata": {},
   "outputs": [
    {
     "name": "stderr",
     "output_type": "stream",
     "text": [
      "C:\\Users\\dalma\\AppData\\Local\\Temp/ipykernel_11156/1800608580.py:5: UserWarning: Pandas doesn't allow columns to be created via a new attribute name - see https://pandas.pydata.org/pandas-docs/stable/indexing.html#attribute-access\n",
      "  oscar_df.year_ceremony = oscar_df.year_film/oscar_df.nominations\n"
     ]
    }
   ],
   "source": [
    "oscar_df.drop(['category','name'],axis=1)\n",
    "oscar_df['nominations'] = 1\n",
    "oscar_df['winner'] = oscar_df['winner'].apply(lambda x:int(x))\n",
    "oscar_df = oscar_df.groupby('film').sum()\n",
    "oscar_df.year_ceremony = oscar_df.year_film/oscar_df.nominations\n",
    "oscar_df.year_ceremony = oscar_df.year_film.apply(lambda x:int(x))\n",
    "oscar_df['film'] = oscar_df.index\n",
    "oscar_df = oscar_df.set_index(pd.Series(range(len(oscar_df.film))))\n"
   ]
  },
  {
   "cell_type": "code",
   "execution_count": 111,
   "metadata": {},
   "outputs": [
    {
     "data": {
      "text/html": [
       "<div>\n",
       "<style scoped>\n",
       "    .dataframe tbody tr th:only-of-type {\n",
       "        vertical-align: middle;\n",
       "    }\n",
       "\n",
       "    .dataframe tbody tr th {\n",
       "        vertical-align: top;\n",
       "    }\n",
       "\n",
       "    .dataframe thead th {\n",
       "        text-align: right;\n",
       "    }\n",
       "</style>\n",
       "<table border=\"1\" class=\"dataframe\">\n",
       "  <thead>\n",
       "    <tr style=\"text-align: right;\">\n",
       "      <th></th>\n",
       "      <th>year_film</th>\n",
       "      <th>winner</th>\n",
       "      <th>nominations</th>\n",
       "      <th>film</th>\n",
       "    </tr>\n",
       "  </thead>\n",
       "  <tbody>\n",
       "    <tr>\n",
       "      <th>0</th>\n",
       "      <td>1935</td>\n",
       "      <td>0</td>\n",
       "      <td>1</td>\n",
       "      <td>$1,000 a Minute</td>\n",
       "    </tr>\n",
       "    <tr>\n",
       "      <th>1</th>\n",
       "      <td>1986</td>\n",
       "      <td>0</td>\n",
       "      <td>1</td>\n",
       "      <td>'38'</td>\n",
       "    </tr>\n",
       "    <tr>\n",
       "      <th>2</th>\n",
       "      <td>1986</td>\n",
       "      <td>0</td>\n",
       "      <td>1</td>\n",
       "      <td>'Crocodile' Dundee</td>\n",
       "    </tr>\n",
       "    <tr>\n",
       "      <th>3</th>\n",
       "      <td>3972</td>\n",
       "      <td>1</td>\n",
       "      <td>2</td>\n",
       "      <td>'Round Midnight</td>\n",
       "    </tr>\n",
       "    <tr>\n",
       "      <th>4</th>\n",
       "      <td>2003</td>\n",
       "      <td>0</td>\n",
       "      <td>1</td>\n",
       "      <td>(A) Torzija [(A) Torsion]</td>\n",
       "    </tr>\n",
       "  </tbody>\n",
       "</table>\n",
       "</div>"
      ],
      "text/plain": [
       "   year_film  winner  nominations                       film\n",
       "0       1935       0            1            $1,000 a Minute\n",
       "1       1986       0            1                       '38'\n",
       "2       1986       0            1         'Crocodile' Dundee\n",
       "3       3972       1            2            'Round Midnight\n",
       "4       2003       0            1  (A) Torzija [(A) Torsion]"
      ]
     },
     "execution_count": 111,
     "metadata": {},
     "output_type": "execute_result"
    }
   ],
   "source": [
    "oscar_df.head()"
   ]
  },
  {
   "cell_type": "code",
   "execution_count": 112,
   "metadata": {},
   "outputs": [
    {
     "name": "stdout",
     "output_type": "stream",
     "text": [
      "<class 'pandas.core.frame.DataFrame'>\n",
      "RangeIndex: 45466 entries, 0 to 45465\n",
      "Data columns (total 24 columns):\n",
      " #   Column                 Non-Null Count  Dtype  \n",
      "---  ------                 --------------  -----  \n",
      " 0   adult                  45466 non-null  object \n",
      " 1   belongs_to_collection  4494 non-null   object \n",
      " 2   budget                 45466 non-null  object \n",
      " 3   genres                 45466 non-null  object \n",
      " 4   homepage               7782 non-null   object \n",
      " 5   id                     45466 non-null  object \n",
      " 6   imdb_id                45449 non-null  object \n",
      " 7   original_language      45455 non-null  object \n",
      " 8   original_title         45466 non-null  object \n",
      " 9   overview               44512 non-null  object \n",
      " 10  popularity             45461 non-null  object \n",
      " 11  poster_path            45080 non-null  object \n",
      " 12  production_companies   45463 non-null  object \n",
      " 13  production_countries   45463 non-null  object \n",
      " 14  release_date           45379 non-null  object \n",
      " 15  revenue                45460 non-null  float64\n",
      " 16  runtime                45203 non-null  float64\n",
      " 17  spoken_languages       45460 non-null  object \n",
      " 18  status                 45379 non-null  object \n",
      " 19  tagline                20412 non-null  object \n",
      " 20  title                  45460 non-null  object \n",
      " 21  video                  45460 non-null  object \n",
      " 22  vote_average           45460 non-null  float64\n",
      " 23  vote_count             45460 non-null  float64\n",
      "dtypes: float64(4), object(20)\n",
      "memory usage: 8.3+ MB\n"
     ]
    }
   ],
   "source": [
    "metadata_df.info()"
   ]
  },
  {
   "cell_type": "code",
   "execution_count": 113,
   "metadata": {},
   "outputs": [
    {
     "data": {
      "text/plain": [
       "False    45367\n",
       "True        93\n",
       "Name: video, dtype: int64"
      ]
     },
     "execution_count": 113,
     "metadata": {},
     "output_type": "execute_result"
    }
   ],
   "source": [
    "metadata_df.video.value_counts()"
   ]
  },
  {
   "cell_type": "code",
   "execution_count": 114,
   "metadata": {},
   "outputs": [
    {
     "data": {
      "text/plain": [
       "Released           45014\n",
       "Rumored              230\n",
       "Post Production       98\n",
       "In Production         20\n",
       "Planned               15\n",
       "Canceled               2\n",
       "Name: status, dtype: int64"
      ]
     },
     "execution_count": 114,
     "metadata": {},
     "output_type": "execute_result"
    }
   ],
   "source": [
    "metadata_df.status.value_counts()"
   ]
  },
  {
   "cell_type": "markdown",
   "metadata": {},
   "source": [
    "We now go on with the data exploration and cleaning of the Metadata dataset. As we can see the dataset has 23 columns, many of which useless for the scope of this project:\n",
    "- 'belongs to collection': describes whether or not a film belongs in one of the listed collections\n",
    "- 'homepage': a link to the films website\n",
    "- 'id' and 'imdb_id': a numerical identifier of the film in the database\n",
    "- 'overview': a summarized plot of the movie\n",
    "- 'tagline': a sentence the film was advertised with\n",
    "- 'poster_path': the name of a file containing the poster for the film\n",
    "\n",
    "On the other hand, 'video' is a boolean value that distinguishes films from other types of video content: in this project we are only interested in studying data related to films, so we'll drop rows having video value True and we'll drop the column.\n",
    "We also checked that the vast majority of datapoints in the dataset have False as value in this column. \n",
    "\n",
    "We'll do the same thing for the 'status' column, which identifies whether films have been released or not: films that are not released aren't eligible for an Oscar nomination. Once again, dropping these rows doesn't cause a big loss in the number of data points."
   ]
  },
  {
   "cell_type": "code",
   "execution_count": 115,
   "metadata": {},
   "outputs": [],
   "source": [
    "metadata_df = metadata_df.drop(['belongs_to_collection','homepage','id','imdb_id','overview','tagline','poster_path'], axis=1)\n",
    "metadata_df = metadata_df[metadata_df.video == False]\n",
    "metadata_df = metadata_df[metadata_df.status == 'Released']\n",
    "metadata_df = metadata_df.drop(['video','status'], axis=1)"
   ]
  },
  {
   "cell_type": "code",
   "execution_count": 116,
   "metadata": {},
   "outputs": [
    {
     "name": "stdout",
     "output_type": "stream",
     "text": [
      "<class 'pandas.core.frame.DataFrame'>\n",
      "Int64Index: 44921 entries, 0 to 45465\n",
      "Data columns (total 15 columns):\n",
      " #   Column                Non-Null Count  Dtype  \n",
      "---  ------                --------------  -----  \n",
      " 0   adult                 44921 non-null  object \n",
      " 1   budget                44921 non-null  object \n",
      " 2   genres                44921 non-null  object \n",
      " 3   original_language     44911 non-null  object \n",
      " 4   original_title        44921 non-null  object \n",
      " 5   popularity            44921 non-null  object \n",
      " 6   production_companies  44921 non-null  object \n",
      " 7   production_countries  44921 non-null  object \n",
      " 8   release_date          44847 non-null  object \n",
      " 9   revenue               44921 non-null  float64\n",
      " 10  runtime               44671 non-null  float64\n",
      " 11  spoken_languages      44921 non-null  object \n",
      " 12  title                 44921 non-null  object \n",
      " 13  vote_average          44921 non-null  float64\n",
      " 14  vote_count            44921 non-null  float64\n",
      "dtypes: float64(4), object(11)\n",
      "memory usage: 5.5+ MB\n"
     ]
    }
   ],
   "source": [
    "metadata_df.info()"
   ]
  },
  {
   "cell_type": "code",
   "execution_count": 117,
   "metadata": {},
   "outputs": [
    {
     "data": {
      "text/html": [
       "<div>\n",
       "<style scoped>\n",
       "    .dataframe tbody tr th:only-of-type {\n",
       "        vertical-align: middle;\n",
       "    }\n",
       "\n",
       "    .dataframe tbody tr th {\n",
       "        vertical-align: top;\n",
       "    }\n",
       "\n",
       "    .dataframe thead th {\n",
       "        text-align: right;\n",
       "    }\n",
       "</style>\n",
       "<table border=\"1\" class=\"dataframe\">\n",
       "  <thead>\n",
       "    <tr style=\"text-align: right;\">\n",
       "      <th></th>\n",
       "      <th>revenue</th>\n",
       "      <th>runtime</th>\n",
       "      <th>vote_average</th>\n",
       "      <th>vote_count</th>\n",
       "    </tr>\n",
       "  </thead>\n",
       "  <tbody>\n",
       "    <tr>\n",
       "      <th>count</th>\n",
       "      <td>4.492100e+04</td>\n",
       "      <td>44671.000000</td>\n",
       "      <td>44921.000000</td>\n",
       "      <td>44921.000000</td>\n",
       "    </tr>\n",
       "    <tr>\n",
       "      <th>mean</th>\n",
       "      <td>1.134234e+07</td>\n",
       "      <td>94.290837</td>\n",
       "      <td>5.625451</td>\n",
       "      <td>111.103560</td>\n",
       "    </tr>\n",
       "    <tr>\n",
       "      <th>std</th>\n",
       "      <td>6.470534e+07</td>\n",
       "      <td>38.160487</td>\n",
       "      <td>1.912502</td>\n",
       "      <td>494.117134</td>\n",
       "    </tr>\n",
       "    <tr>\n",
       "      <th>min</th>\n",
       "      <td>0.000000e+00</td>\n",
       "      <td>0.000000</td>\n",
       "      <td>0.000000</td>\n",
       "      <td>0.000000</td>\n",
       "    </tr>\n",
       "    <tr>\n",
       "      <th>25%</th>\n",
       "      <td>0.000000e+00</td>\n",
       "      <td>85.000000</td>\n",
       "      <td>5.000000</td>\n",
       "      <td>3.000000</td>\n",
       "    </tr>\n",
       "    <tr>\n",
       "      <th>50%</th>\n",
       "      <td>0.000000e+00</td>\n",
       "      <td>95.000000</td>\n",
       "      <td>6.000000</td>\n",
       "      <td>10.000000</td>\n",
       "    </tr>\n",
       "    <tr>\n",
       "      <th>75%</th>\n",
       "      <td>0.000000e+00</td>\n",
       "      <td>107.000000</td>\n",
       "      <td>6.800000</td>\n",
       "      <td>35.000000</td>\n",
       "    </tr>\n",
       "    <tr>\n",
       "      <th>max</th>\n",
       "      <td>2.787965e+09</td>\n",
       "      <td>1256.000000</td>\n",
       "      <td>10.000000</td>\n",
       "      <td>14075.000000</td>\n",
       "    </tr>\n",
       "  </tbody>\n",
       "</table>\n",
       "</div>"
      ],
      "text/plain": [
       "            revenue       runtime  vote_average    vote_count\n",
       "count  4.492100e+04  44671.000000  44921.000000  44921.000000\n",
       "mean   1.134234e+07     94.290837      5.625451    111.103560\n",
       "std    6.470534e+07     38.160487      1.912502    494.117134\n",
       "min    0.000000e+00      0.000000      0.000000      0.000000\n",
       "25%    0.000000e+00     85.000000      5.000000      3.000000\n",
       "50%    0.000000e+00     95.000000      6.000000     10.000000\n",
       "75%    0.000000e+00    107.000000      6.800000     35.000000\n",
       "max    2.787965e+09   1256.000000     10.000000  14075.000000"
      ]
     },
     "execution_count": 117,
     "metadata": {},
     "output_type": "execute_result"
    }
   ],
   "source": [
    "metadata_df.describe()"
   ]
  },
  {
   "cell_type": "markdown",
   "metadata": {},
   "source": [
    "We now consider the runtime column. We can see from the data from the \"describe\" function that 75% of the films are 107 minutes long, but the maximum value for runtime is 1256. The column also has some missing values.\n",
    "We decide to drop the rows with runtime higher than 210, as this is around the maximum lenght for any feature film and the vast majority of our data is in this interval. We replace the null values and the zeros with the mean of the column as it is a good indicator of what approximately could be the runtime of these movies."
   ]
  },
  {
   "cell_type": "code",
   "execution_count": 118,
   "metadata": {},
   "outputs": [
    {
     "data": {
      "image/png": "[encoded data removed]",
      "text/plain": [
       "<Figure size 432x288 with 1 Axes>"
      ]
     },
     "metadata": {
      "needs_background": "light"
     },
     "output_type": "display_data"
    }
   ],
   "source": [
    "plt.hist(metadata_df.runtime,100)\n",
    "plt.show()\n"
   ]
  },
  {
   "cell_type": "code",
   "execution_count": 119,
   "metadata": {},
   "outputs": [
    {
     "name": "stdout",
     "output_type": "stream",
     "text": [
      "285\n"
     ]
    },
    {
     "data": {
      "image/png": "[encoded data removed]",
      "text/plain": [
       "<Figure size 432x288 with 1 Axes>"
      ]
     },
     "metadata": {
      "needs_background": "light"
     },
     "output_type": "display_data"
    }
   ],
   "source": [
    "print(len(metadata_df[metadata_df.runtime>210].runtime))\n",
    "metadata_df = metadata_df[metadata_df.runtime<=210]\n",
    "runtime_mean = metadata_df[metadata_df.runtime>0].runtime.mean()\n",
    "metadata_df.runtime = metadata_df.runtime.fillna(runtime_mean)\n",
    "metadata_df.runtime = metadata_df.runtime.replace(0,runtime_mean)\n",
    "plt.hist(metadata_df.runtime,100)\n",
    "plt.show()"
   ]
  },
  {
   "cell_type": "markdown",
   "metadata": {},
   "source": [
    "We see that 62 datapoints have null values in the release date column. As this is just a small number of datapoints and the release date couldn't be retrieved in any way other than through manual checking, we are going to drop this rows."
   ]
  },
  {
   "cell_type": "code",
   "execution_count": 120,
   "metadata": {},
   "outputs": [],
   "source": [
    "mask = metadata_df.release_date.isna()\n",
    "metadata_df = metadata_df[~mask]"
   ]
  },
  {
   "cell_type": "markdown",
   "metadata": {},
   "source": [
    "To better analyse the information given by the release date of a film, we extract from the data in the column (which is in the form yyyy-mm-dd), the release year and the day of the year going from 1 to 365."
   ]
  },
  {
   "cell_type": "code",
   "execution_count": 121,
   "metadata": {},
   "outputs": [],
   "source": [
    "def convert_date(date): #function to convert a list [month,day], into the numbered day of the year\n",
    "    year = int(date[0:4])\n",
    "    day = [int(date[5:7]),int(date[8:10])]\n",
    "    month_days=[0,31,59,90,120,151,181,212,243,273,304,334]\n",
    "    return [year,day[1]+month_days[day[0]-1]]"
   ]
  },
  {
   "cell_type": "code",
   "execution_count": 122,
   "metadata": {},
   "outputs": [],
   "source": [
    "metadata_df['year'] = metadata_df.release_date\n",
    "metadata_df['day'] = metadata_df.release_date\n",
    "\n",
    "metadata_df['year'] = metadata_df['year'].apply(lambda x:convert_date(x)[0])\n",
    "metadata_df['day'] = metadata_df['day'].apply(lambda x:convert_date(x)[1])\n",
    "\n",
    "metadata_df = metadata_df.drop(['release_date'], axis=1)"
   ]
  },
  {
   "cell_type": "markdown",
   "metadata": {},
   "source": [
    "The first Academy Award Ceremony was celebrated in 1929, so we can drop any film released before 1928. The metadata dataset was created in 2017, so we are going to drop from both datasets the movies published after that year."
   ]
  },
  {
   "cell_type": "code",
   "execution_count": 124,
   "metadata": {},
   "outputs": [],
   "source": [
    "metadata_df = metadata_df[metadata_df.year >= 1928]\n",
    "metadata_df = metadata_df[metadata_df.year <= 2017]\n",
    "oscar_df = oscar_df[oscar_df.year_film <= 2017]"
   ]
  },
  {
   "cell_type": "markdown",
   "metadata": {},
   "source": [
    "As to the budget and revenue columns, we can see only a small portion of the films in the dataset have non-zero values. The information provided by these features could be useful to highlight a difference between movies that have been nominated and films that haven't: for this analysis we will ignore the zero values.\n",
    "When developing the predictive model we will study if including the budget and revenue columns increases the model's accuracy or not."
   ]
  },
  {
   "cell_type": "code",
   "execution_count": 125,
   "metadata": {},
   "outputs": [
    {
     "name": "stdout",
     "output_type": "stream",
     "text": [
      "Non-zero budget values:  8771\n",
      "Non-zero revenue values:  7357\n"
     ]
    }
   ],
   "source": [
    "metadata_df.budget = metadata_df.budget.apply(lambda x:float(x)) #we transform the type to float\n",
    "\n",
    "print(\"Non-zero budget values: \", sum(metadata_df.budget>0))\n",
    "print(\"Non-zero revenue values: \", sum(metadata_df.revenue>0))"
   ]
  },
  {
   "cell_type": "markdown",
   "metadata": {},
   "source": [
    "We now go on to change the format of the columns that are now formatted with JSON (JavaScript Object Notation): genres, production companies, production countries and spoken languages."
   ]
  },
  {
   "cell_type": "code",
   "execution_count": 126,
   "metadata": {},
   "outputs": [
    {
     "name": "stdout",
     "output_type": "stream",
     "text": [
      "8\n",
      "20\n",
      "['Animation', 'Comedy', 'Family', 'Adventure', 'Fantasy', 'Romance', 'Drama', 'Action', 'Crime', 'Thriller', 'Horror', 'History', 'Science Fiction', 'Mystery', 'War', 'Foreign', 'Music', 'Documentary', 'Western', 'TV Movie']\n"
     ]
    }
   ],
   "source": [
    "n = len(metadata_df.genres)\n",
    "numero = []\n",
    "different_genres = []\n",
    "film_genre = [[] for i in range(n)]\n",
    "\n",
    "for i in range(n):\n",
    "    list_dict = js.loads(metadata_df.genres.iloc[i].replace(\"'\",'\"')) # the difference between ' and \" generated errors\n",
    "    numero.append(len(list_dict))\n",
    "    for dict in list_dict:\n",
    "        film_genre[i].append(dict['name'])\n",
    "        if dict['name'] not in different_genres: \n",
    "            different_genres.append(dict['name'])\n",
    "    \n",
    "metadata_df['genres'] = film_genre\n",
    "\n",
    "print(max(numero))\n",
    "print(len(different_genres))\n",
    "print(different_genres)"
   ]
  },
  {
   "cell_type": "markdown",
   "metadata": {},
   "source": [
    "We find that the maximum number of genres for a single film in this dataset is 8 and that are a total of 20 possible different genres. We have also replaced the genres column with lists of genres instead of JSON dictionaries.\n",
    "To mantain this information and to be able to analyse it better we create 20 new columns of boolean values, one for each possible genre.\n",
    "After this we can also drop the previous genre column."
   ]
  },
  {
   "cell_type": "code",
   "execution_count": 127,
   "metadata": {},
   "outputs": [
    {
     "name": "stderr",
     "output_type": "stream",
     "text": [
      "C:\\Users\\dalma\\AppData\\Local\\Packages\\PythonSoftwareFoundation.Python.3.9_qbz5n2kfra8p0\\LocalCache\\local-packages\\Python39\\site-packages\\pandas\\core\\indexing.py:1732: SettingWithCopyWarning: \n",
      "A value is trying to be set on a copy of a slice from a DataFrame\n",
      "\n",
      "See the caveats in the documentation: https://pandas.pydata.org/pandas-docs/stable/user_guide/indexing.html#returning-a-view-versus-a-copy\n",
      "  self._setitem_single_block(indexer, value, name)\n"
     ]
    }
   ],
   "source": [
    "for genre in different_genres:\n",
    "    metadata_df['genre ' + genre] = False\n",
    "    for i in range(n):\n",
    "        if genre in metadata_df.genres.iloc[i]:\n",
    "            metadata_df['genre ' + genre].iloc[i] = True\n",
    "\n",
    "metadata_df = metadata_df.drop('genres', axis=1)"
   ]
  },
  {
   "cell_type": "code",
   "execution_count": 128,
   "metadata": {},
   "outputs": [
    {
     "name": "stdout",
     "output_type": "stream",
     "text": [
      "Warner Bros.                              1230\n",
      "Metro-Goldwyn-Mayer (MGM)                 1014\n",
      "Paramount Pictures                         978\n",
      "Twentieth Century Fox Film Corporation     818\n",
      "Universal Pictures                         816\n",
      "                                          ... \n",
      "Minos Films                                  1\n",
      "Panda Productions Inc.                       1\n",
      "Horticus UK                                  1\n",
      "Sanctum Australia                            1\n",
      "Pirie Productions                            1\n",
      "Length: 22581, dtype: int64\n",
      "26\n",
      "22581\n"
     ]
    },
    {
     "data": {
      "text/plain": [
       "5"
      ]
     },
     "execution_count": 128,
     "metadata": {},
     "output_type": "execute_result"
    }
   ],
   "source": [
    "n = len(metadata_df.production_companies)\n",
    "numero = []\n",
    "different_productions = []\n",
    "count = []\n",
    "film_production_company = [[] for i in range(n)]\n",
    "\n",
    "for i in range(n):\n",
    "    try:\n",
    "        list_dict = js.loads(metadata_df.production_companies.iloc[i].replace(\"'\",'\"'))\n",
    "        numero.append(len(list_dict))\n",
    "        for dict in list_dict:\n",
    "            film_production_company[i].append(dict['name'])\n",
    "            count.append(dict['name'])\n",
    "            if dict['name'] not in different_productions: \n",
    "                different_productions.append(dict['name'])\n",
    "    except: pass #some datapoints have problematic encodings for the production companies that raise errors\n",
    "\n",
    "\n",
    "metadata_df['production_companies'] = film_production_company\n",
    "count = pd.Series(count)\n",
    "print(count.value_counts())\n",
    "print(max(numero))\n",
    "print(len(different_productions))\n",
    "sum(count.value_counts()>500)"
   ]
  },
  {
   "cell_type": "markdown",
   "metadata": {},
   "source": [
    "We have found that in the dataset are presented more than 22 thousand different production companies and as many as 26 for a single film!\n",
    "However, only 5 have produced more than 500 films each: to retain some information from this column we are going to create 5 boolean columns, one for each of the largest producing companies and then remove the old producing companies column."
   ]
  },
  {
   "cell_type": "code",
   "execution_count": 129,
   "metadata": {},
   "outputs": [],
   "source": [
    "metadata_df['prod_warner'] = False\n",
    "metadata_df['prod_mgm'] = False\n",
    "metadata_df['prod_paramount'] = False\n",
    "metadata_df['prod_20centuryfox'] = False\n",
    "metadata_df['prod_universal'] = False\n",
    "\n",
    "for i in range(n):\n",
    "    if \"Warner Bros.\" in metadata_df.production_companies.iloc[i]: metadata_df.prod_warner.iloc[i] = True\n",
    "    if \"Metro-Goldwyn-Mayer (MGM)\" in metadata_df.production_companies.iloc[i]: metadata_df.prod_mgm.iloc[i] = True\n",
    "    if \"Paramount Pictures\" in metadata_df.production_companies.iloc[i]: metadata_df.prod_paramount.iloc[i] = True\n",
    "    if \"Twentieth Century Fox Film Corporation\" in metadata_df.production_companies.iloc[i]: metadata_df.prod_20centuryfox.iloc[i] = True\n",
    "    if \"Universal Pictures\" in metadata_df.production_companies.iloc[i]: metadata_df.prod_universal.iloc[i] = True\n",
    "\n",
    "\n",
    "metadata_df = metadata_df.drop('production_companies', axis=1)"
   ]
  },
  {
   "cell_type": "code",
   "execution_count": 130,
   "metadata": {},
   "outputs": [
    {
     "name": "stdout",
     "output_type": "stream",
     "text": [
      "United States of America                20562\n",
      "United Kingdom                           4009\n",
      "France                                   3761\n",
      "Germany                                  2128\n",
      "Italy                                    2096\n",
      "                                        ...  \n",
      "Kuwait                                      1\n",
      "Martinique                                  1\n",
      "United States Minor Outlying Islands        1\n",
      "Cayman Islands                              1\n",
      "Guinea                                      1\n",
      "Length: 158, dtype: int64\n",
      "25\n",
      "158\n"
     ]
    },
    {
     "data": {
      "text/plain": [
       "7"
      ]
     },
     "execution_count": 130,
     "metadata": {},
     "output_type": "execute_result"
    }
   ],
   "source": [
    "n = len(metadata_df.production_countries)\n",
    "numero = []\n",
    "different_countries = []\n",
    "count = []\n",
    "film_production_country = [[] for i in range(n)]\n",
    "\n",
    "for i in range(n):\n",
    "    try:\n",
    "        list_dict = js.loads(metadata_df.production_countries.iloc[i].replace(\"'\",'\"')) # the difference between ' and \" generated errors\n",
    "        numero.append(len(list_dict))\n",
    "        for dict in list_dict:\n",
    "            film_production_country[i].append(dict['name'])\n",
    "            count.append(dict['name'])\n",
    "            if dict['name'] not in different_countries: \n",
    "                different_countries.append(dict['name'])\n",
    "    except: pass\n",
    "\n",
    "metadata_df['production_countries'] = film_production_country\n",
    "count = pd.Series(count)\n",
    "print(count.value_counts())\n",
    "print(max(numero))\n",
    "print(len(different_countries))\n",
    "sum(count.value_counts()>1000)"
   ]
  },
  {
   "cell_type": "markdown",
   "metadata": {},
   "source": [
    "We can see that 158 different possible producing countries exist in the dataframe and that a single film can have up to 25 different producing countries. But at the same time, some countries produced a very large number of films compared to the rest: as we did before we are going to create 7 boolean columns, one for each of the countries that have produced more than 1000 movies in this dataset."
   ]
  },
  {
   "cell_type": "code",
   "execution_count": 131,
   "metadata": {},
   "outputs": [],
   "source": [
    "metadata_df['country_us'] = False\n",
    "metadata_df['country_uk'] = False\n",
    "metadata_df['country_fr'] = False\n",
    "metadata_df['country_ge'] = False\n",
    "metadata_df['country_it'] = False\n",
    "metadata_df['country_ca'] = False\n",
    "metadata_df['country_ja'] = False\n",
    "\n",
    "for i in range(n):\n",
    "    if \"United States of America\" in metadata_df.production_countries.iloc[i]: metadata_df.country_us.iloc[i] = True\n",
    "    if \"United Kingdom\" in metadata_df.production_countries.iloc[i]: metadata_df.country_uk.iloc[i] = True\n",
    "    if \"France\" in metadata_df.production_countries.iloc[i]: metadata_df.country_fr.iloc[i] = True\n",
    "    if \"Germany\" in metadata_df.production_countries.iloc[i]: metadata_df.country_ge.iloc[i] = True\n",
    "    if \"Italy\" in metadata_df.production_countries.iloc[i]: metadata_df.country_it.iloc[i] = True\n",
    "    if \"Canada\" in metadata_df.production_countries.iloc[i]: metadata_df.country_ca.iloc[i] = True\n",
    "    if \"Japan\" in metadata_df.production_countries.iloc[i]: metadata_df.country_ja.iloc[i] = True\n",
    "\n",
    "\n",
    "metadata_df = metadata_df.drop('production_countries', axis=1)"
   ]
  },
  {
   "cell_type": "markdown",
   "metadata": {},
   "source": [
    "The only column left with Json values is the spoken_languages column: given that some information about the language of the film is already given by the original_language column, we are eventually going to discard this feature. As we can see that the original_language column has some null values, we are going to substitute the first spoken language as the original language to fill the NAs."
   ]
  },
  {
   "cell_type": "code",
   "execution_count": 132,
   "metadata": {},
   "outputs": [
    {
     "data": {
      "text/plain": [
       "en    31182\n",
       "fr     2297\n",
       "it     1441\n",
       "ja     1332\n",
       "de      976\n",
       "es      952\n",
       "ru      760\n",
       "hi      493\n",
       "ko      441\n",
       "zh      402\n",
       "Name: original_language, dtype: int64"
      ]
     },
     "execution_count": 132,
     "metadata": {},
     "output_type": "execute_result"
    }
   ],
   "source": [
    "for i in metadata_df[metadata_df.original_language.isna()].index:\n",
    "    metadata_df['original_language'].loc[i] = js.loads(metadata_df.spoken_languages.loc[i].replace(\"'\",'\"'))[0]['iso_639_1']\n",
    "\n",
    "metadata_df = metadata_df.drop('spoken_languages', axis=1)\n",
    "metadata_df.original_language.value_counts()[0:10]"
   ]
  },
  {
   "cell_type": "markdown",
   "metadata": {},
   "source": [
    "We can see that the original_language column has 7 languages with more than 500 films. We are once again going to create 7 columns of boolean values to transform this categorical data into numerical data."
   ]
  },
  {
   "cell_type": "code",
   "execution_count": 133,
   "metadata": {},
   "outputs": [],
   "source": [
    "metadata_df['language_en'] = False\n",
    "metadata_df['language_fr'] = False\n",
    "metadata_df['language_it'] = False\n",
    "metadata_df['language_ja'] = False\n",
    "metadata_df['language_de'] = False\n",
    "metadata_df['language_es'] = False\n",
    "metadata_df['language_ru'] = False\n",
    "\n",
    "for i in range(n):\n",
    "    if metadata_df.original_language.iloc[i] == 'en': metadata_df.language_en.iloc[i] = True\n",
    "    if metadata_df.original_language.iloc[i] == 'fr': metadata_df.language_fr.iloc[i] = True\n",
    "    if metadata_df.original_language.iloc[i] == 'it': metadata_df.language_it.iloc[i] = True\n",
    "    if metadata_df.original_language.iloc[i] == 'ja': metadata_df.language_ja.iloc[i] = True\n",
    "    if metadata_df.original_language.iloc[i] == 'de': metadata_df.language_de.iloc[i] = True\n",
    "    if metadata_df.original_language.iloc[i] == 'es': metadata_df.language_es.iloc[i] = True\n",
    "    if metadata_df.original_language.iloc[i] == 'ru': metadata_df.language_ru.iloc[i] = True\n",
    "\n",
    "\n",
    "metadata_df = metadata_df.drop('original_language', axis=1)"
   ]
  },
  {
   "cell_type": "code",
   "execution_count": 134,
   "metadata": {},
   "outputs": [
    {
     "data": {
      "text/html": [
       "<div>\n",
       "<style scoped>\n",
       "    .dataframe tbody tr th:only-of-type {\n",
       "        vertical-align: middle;\n",
       "    }\n",
       "\n",
       "    .dataframe tbody tr th {\n",
       "        vertical-align: top;\n",
       "    }\n",
       "\n",
       "    .dataframe thead th {\n",
       "        text-align: right;\n",
       "    }\n",
       "</style>\n",
       "<table border=\"1\" class=\"dataframe\">\n",
       "  <thead>\n",
       "    <tr style=\"text-align: right;\">\n",
       "      <th></th>\n",
       "      <th>adult</th>\n",
       "      <th>budget</th>\n",
       "      <th>original_title</th>\n",
       "      <th>popularity</th>\n",
       "      <th>revenue</th>\n",
       "      <th>runtime</th>\n",
       "      <th>title</th>\n",
       "      <th>vote_average</th>\n",
       "      <th>vote_count</th>\n",
       "      <th>year</th>\n",
       "      <th>...</th>\n",
       "      <th>country_it</th>\n",
       "      <th>country_ca</th>\n",
       "      <th>country_ja</th>\n",
       "      <th>language_en</th>\n",
       "      <th>language_fr</th>\n",
       "      <th>language_it</th>\n",
       "      <th>language_ja</th>\n",
       "      <th>language_de</th>\n",
       "      <th>language_es</th>\n",
       "      <th>language_ru</th>\n",
       "    </tr>\n",
       "  </thead>\n",
       "  <tbody>\n",
       "    <tr>\n",
       "      <th>0</th>\n",
       "      <td>False</td>\n",
       "      <td>30000000.0</td>\n",
       "      <td>Toy Story</td>\n",
       "      <td>21.946943</td>\n",
       "      <td>373554033.0</td>\n",
       "      <td>81.0</td>\n",
       "      <td>Toy Story</td>\n",
       "      <td>7.7</td>\n",
       "      <td>5415.0</td>\n",
       "      <td>1995</td>\n",
       "      <td>...</td>\n",
       "      <td>False</td>\n",
       "      <td>False</td>\n",
       "      <td>False</td>\n",
       "      <td>True</td>\n",
       "      <td>False</td>\n",
       "      <td>False</td>\n",
       "      <td>False</td>\n",
       "      <td>False</td>\n",
       "      <td>False</td>\n",
       "      <td>False</td>\n",
       "    </tr>\n",
       "    <tr>\n",
       "      <th>1</th>\n",
       "      <td>False</td>\n",
       "      <td>65000000.0</td>\n",
       "      <td>Jumanji</td>\n",
       "      <td>17.015539</td>\n",
       "      <td>262797249.0</td>\n",
       "      <td>104.0</td>\n",
       "      <td>Jumanji</td>\n",
       "      <td>6.9</td>\n",
       "      <td>2413.0</td>\n",
       "      <td>1995</td>\n",
       "      <td>...</td>\n",
       "      <td>False</td>\n",
       "      <td>False</td>\n",
       "      <td>False</td>\n",
       "      <td>True</td>\n",
       "      <td>False</td>\n",
       "      <td>False</td>\n",
       "      <td>False</td>\n",
       "      <td>False</td>\n",
       "      <td>False</td>\n",
       "      <td>False</td>\n",
       "    </tr>\n",
       "    <tr>\n",
       "      <th>2</th>\n",
       "      <td>False</td>\n",
       "      <td>0.0</td>\n",
       "      <td>Grumpier Old Men</td>\n",
       "      <td>11.7129</td>\n",
       "      <td>0.0</td>\n",
       "      <td>101.0</td>\n",
       "      <td>Grumpier Old Men</td>\n",
       "      <td>6.5</td>\n",
       "      <td>92.0</td>\n",
       "      <td>1995</td>\n",
       "      <td>...</td>\n",
       "      <td>False</td>\n",
       "      <td>False</td>\n",
       "      <td>False</td>\n",
       "      <td>True</td>\n",
       "      <td>False</td>\n",
       "      <td>False</td>\n",
       "      <td>False</td>\n",
       "      <td>False</td>\n",
       "      <td>False</td>\n",
       "      <td>False</td>\n",
       "    </tr>\n",
       "    <tr>\n",
       "      <th>3</th>\n",
       "      <td>False</td>\n",
       "      <td>16000000.0</td>\n",
       "      <td>Waiting to Exhale</td>\n",
       "      <td>3.859495</td>\n",
       "      <td>81452156.0</td>\n",
       "      <td>127.0</td>\n",
       "      <td>Waiting to Exhale</td>\n",
       "      <td>6.1</td>\n",
       "      <td>34.0</td>\n",
       "      <td>1995</td>\n",
       "      <td>...</td>\n",
       "      <td>False</td>\n",
       "      <td>False</td>\n",
       "      <td>False</td>\n",
       "      <td>True</td>\n",
       "      <td>False</td>\n",
       "      <td>False</td>\n",
       "      <td>False</td>\n",
       "      <td>False</td>\n",
       "      <td>False</td>\n",
       "      <td>False</td>\n",
       "    </tr>\n",
       "    <tr>\n",
       "      <th>4</th>\n",
       "      <td>False</td>\n",
       "      <td>0.0</td>\n",
       "      <td>Father of the Bride Part II</td>\n",
       "      <td>8.387519</td>\n",
       "      <td>76578911.0</td>\n",
       "      <td>106.0</td>\n",
       "      <td>Father of the Bride Part II</td>\n",
       "      <td>5.7</td>\n",
       "      <td>173.0</td>\n",
       "      <td>1995</td>\n",
       "      <td>...</td>\n",
       "      <td>False</td>\n",
       "      <td>False</td>\n",
       "      <td>False</td>\n",
       "      <td>True</td>\n",
       "      <td>False</td>\n",
       "      <td>False</td>\n",
       "      <td>False</td>\n",
       "      <td>False</td>\n",
       "      <td>False</td>\n",
       "      <td>False</td>\n",
       "    </tr>\n",
       "  </tbody>\n",
       "</table>\n",
       "<p>5 rows × 50 columns</p>\n",
       "</div>"
      ],
      "text/plain": [
       "   adult      budget               original_title popularity      revenue  \\\n",
       "0  False  30000000.0                    Toy Story  21.946943  373554033.0   \n",
       "1  False  65000000.0                      Jumanji  17.015539  262797249.0   \n",
       "2  False         0.0             Grumpier Old Men    11.7129          0.0   \n",
       "3  False  16000000.0            Waiting to Exhale   3.859495   81452156.0   \n",
       "4  False         0.0  Father of the Bride Part II   8.387519   76578911.0   \n",
       "\n",
       "   runtime                        title  vote_average  vote_count  year  ...  \\\n",
       "0     81.0                    Toy Story           7.7      5415.0  1995  ...   \n",
       "1    104.0                      Jumanji           6.9      2413.0  1995  ...   \n",
       "2    101.0             Grumpier Old Men           6.5        92.0  1995  ...   \n",
       "3    127.0            Waiting to Exhale           6.1        34.0  1995  ...   \n",
       "4    106.0  Father of the Bride Part II           5.7       173.0  1995  ...   \n",
       "\n",
       "   country_it  country_ca  country_ja  language_en  language_fr  language_it  \\\n",
       "0       False       False       False         True        False        False   \n",
       "1       False       False       False         True        False        False   \n",
       "2       False       False       False         True        False        False   \n",
       "3       False       False       False         True        False        False   \n",
       "4       False       False       False         True        False        False   \n",
       "\n",
       "   language_ja  language_de  language_es  language_ru  \n",
       "0        False        False        False        False  \n",
       "1        False        False        False        False  \n",
       "2        False        False        False        False  \n",
       "3        False        False        False        False  \n",
       "4        False        False        False        False  \n",
       "\n",
       "[5 rows x 50 columns]"
      ]
     },
     "execution_count": 134,
     "metadata": {},
     "output_type": "execute_result"
    }
   ],
   "source": [
    "metadata_df.head()"
   ]
  },
  {
   "cell_type": "markdown",
   "metadata": {},
   "source": [
    "We have explored and cleaned the data from the two datasets, now we want to join them. We are going to join them on the film title and the release year. Before doing this we want to normalize the film titles to avoid problem related to special characters, ecc."
   ]
  },
  {
   "cell_type": "code",
   "execution_count": 194,
   "metadata": {},
   "outputs": [],
   "source": [
    "def normalize(title):\n",
    "    special_char = [':', '!', '?', ' -', '- ', '-', '/', '.', '·', ',', '\"', '...', \"'\", ' ', '\\u200e']\n",
    "    norm_title = title.lower()\n",
    "    for c in special_char:\n",
    "        norm_title = norm_title.replace(c,'')\n",
    "    \n",
    "    norm_title = norm_title.replace('ž','z')\n",
    "    norm_title = norm_title.replace('ń','n')\n",
    "    norm_title = norm_title.replace('&','and')\n",
    "    return norm_title.strip()"
   ]
  },
  {
   "cell_type": "code",
   "execution_count": 138,
   "metadata": {},
   "outputs": [],
   "source": [
    "\n",
    "df = pd.merge(metadata_df, oscar_df,  how='left', left_on=['year','title'], right_on = ['year_film','film'])"
   ]
  },
  {
   "cell_type": "code",
   "execution_count": 139,
   "metadata": {},
   "outputs": [
    {
     "name": "stdout",
     "output_type": "stream",
     "text": [
      "<class 'pandas.core.frame.DataFrame'>\n",
      "Int64Index: 43701 entries, 0 to 43700\n",
      "Data columns (total 54 columns):\n",
      " #   Column                 Non-Null Count  Dtype  \n",
      "---  ------                 --------------  -----  \n",
      " 0   adult                  43701 non-null  object \n",
      " 1   budget                 43701 non-null  float64\n",
      " 2   original_title         43701 non-null  object \n",
      " 3   popularity             43701 non-null  object \n",
      " 4   revenue                43701 non-null  float64\n",
      " 5   runtime                43701 non-null  float64\n",
      " 6   title                  43701 non-null  object \n",
      " 7   vote_average           43701 non-null  float64\n",
      " 8   vote_count             43701 non-null  float64\n",
      " 9   year                   43701 non-null  int64  \n",
      " 10  day                    43701 non-null  int64  \n",
      " 11  genre Animation        43701 non-null  bool   \n",
      " 12  genre Comedy           43701 non-null  bool   \n",
      " 13  genre Family           43701 non-null  bool   \n",
      " 14  genre Adventure        43701 non-null  bool   \n",
      " 15  genre Fantasy          43701 non-null  bool   \n",
      " 16  genre Romance          43701 non-null  bool   \n",
      " 17  genre Drama            43701 non-null  bool   \n",
      " 18  genre Action           43701 non-null  bool   \n",
      " 19  genre Crime            43701 non-null  bool   \n",
      " 20  genre Thriller         43701 non-null  bool   \n",
      " 21  genre Horror           43701 non-null  bool   \n",
      " 22  genre History          43701 non-null  bool   \n",
      " 23  genre Science Fiction  43701 non-null  bool   \n",
      " 24  genre Mystery          43701 non-null  bool   \n",
      " 25  genre War              43701 non-null  bool   \n",
      " 26  genre Foreign          43701 non-null  bool   \n",
      " 27  genre Music            43701 non-null  bool   \n",
      " 28  genre Documentary      43701 non-null  bool   \n",
      " 29  genre Western          43701 non-null  bool   \n",
      " 30  genre TV Movie         43701 non-null  bool   \n",
      " 31  prod_warner            43701 non-null  bool   \n",
      " 32  prod_mgm               43701 non-null  bool   \n",
      " 33  prod_paramount         43701 non-null  bool   \n",
      " 34  prod_20centuryfox      43701 non-null  bool   \n",
      " 35  prod_universal         43701 non-null  bool   \n",
      " 36  country_us             43701 non-null  bool   \n",
      " 37  country_uk             43701 non-null  bool   \n",
      " 38  country_fr             43701 non-null  bool   \n",
      " 39  country_ge             43701 non-null  bool   \n",
      " 40  country_it             43701 non-null  bool   \n",
      " 41  country_ca             43701 non-null  bool   \n",
      " 42  country_ja             43701 non-null  bool   \n",
      " 43  language_en            43701 non-null  bool   \n",
      " 44  language_fr            43701 non-null  bool   \n",
      " 45  language_it            43701 non-null  bool   \n",
      " 46  language_ja            43701 non-null  bool   \n",
      " 47  language_de            43701 non-null  bool   \n",
      " 48  language_es            43701 non-null  bool   \n",
      " 49  language_ru            43701 non-null  bool   \n",
      " 50  year_film              1177 non-null   float64\n",
      " 51  winner                 1177 non-null   float64\n",
      " 52  nominations            1177 non-null   float64\n",
      " 53  film                   1177 non-null   object \n",
      "dtypes: bool(39), float64(8), int64(2), object(5)\n",
      "memory usage: 7.0+ MB\n"
     ]
    }
   ],
   "source": [
    "df.info()"
   ]
  },
  {
   "cell_type": "code",
   "execution_count": 137,
   "metadata": {},
   "outputs": [
    {
     "name": "stdout",
     "output_type": "stream",
     "text": [
      "<class 'pandas.core.frame.DataFrame'>\n",
      "Int64Index: 3147 entries, 0 to 4832\n",
      "Data columns (total 4 columns):\n",
      " #   Column       Non-Null Count  Dtype \n",
      "---  ------       --------------  ----- \n",
      " 0   year_film    3147 non-null   int64 \n",
      " 1   winner       3147 non-null   int64 \n",
      " 2   nominations  3147 non-null   int64 \n",
      " 3   film         3147 non-null   object\n",
      "dtypes: int64(3), object(1)\n",
      "memory usage: 122.9+ KB\n"
     ]
    }
   ],
   "source": [
    "oscar_df.info()"
   ]
  }
 ],
 "metadata": {
  "interpreter": {
   "hash": "a4e4979654056fd51db36ce3060b38c48cc2b8ec3673308cca6880e951a92171"
  },
  "kernelspec": {
   "display_name": "Python 3.9.10 64-bit (windows store)",
   "language": "python",
   "name": "python3"
  },
  "language_info": {
   "codemirror_mode": {
    "name": "ipython",
    "version": 3
   },
   "file_extension": ".py",
   "mimetype": "text/x-python",
   "name": "python",
   "nbconvert_exporter": "python",
   "pygments_lexer": "ipython3",
   "version": "3.9.10"
  },
  "orig_nbformat": 4
 },
 "nbformat": 4,
 "nbformat_minor": 2
}
