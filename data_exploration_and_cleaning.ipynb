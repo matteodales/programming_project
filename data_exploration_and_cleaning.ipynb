{
 "cells": [
  {
   "cell_type": "code",
   "execution_count": 321,
   "metadata": {},
   "outputs": [],
   "source": [
    "import pandas as pd\n",
    "import numpy as np\n",
    "import matplotlib.pyplot as plt\n",
    "import json as js"
   ]
  },
  {
   "cell_type": "code",
   "execution_count": 322,
   "metadata": {},
   "outputs": [
    {
     "name": "stderr",
     "output_type": "stream",
     "text": [
      "C:\\Users\\dalma\\AppData\\Local\\Packages\\PythonSoftwareFoundation.Python.3.9_qbz5n2kfra8p0\\LocalCache\\local-packages\\Python39\\site-packages\\IPython\\core\\interactiveshell.py:3457: DtypeWarning: Columns (10) have mixed types.Specify dtype option on import or set low_memory=False.\n",
      "  exec(code_obj, self.user_global_ns, self.user_ns)\n"
     ]
    }
   ],
   "source": [
    "oscar_df = pd.read_csv('the_oscar_award.csv')\n",
    "metadata_df = pd.read_csv('movies_metadata.csv')"
   ]
  },
  {
   "cell_type": "markdown",
   "metadata": {},
   "source": [
    "## Oscar dataframe"
   ]
  },
  {
   "cell_type": "code",
   "execution_count": 323,
   "metadata": {},
   "outputs": [
    {
     "name": "stdout",
     "output_type": "stream",
     "text": [
      "<class 'pandas.core.frame.DataFrame'>\n",
      "RangeIndex: 10395 entries, 0 to 10394\n",
      "Data columns (total 7 columns):\n",
      " #   Column         Non-Null Count  Dtype \n",
      "---  ------         --------------  ----- \n",
      " 0   year_film      10395 non-null  int64 \n",
      " 1   year_ceremony  10395 non-null  int64 \n",
      " 2   ceremony       10395 non-null  int64 \n",
      " 3   category       10395 non-null  object\n",
      " 4   name           10395 non-null  object\n",
      " 5   film           10091 non-null  object\n",
      " 6   winner         10395 non-null  bool  \n",
      "dtypes: bool(1), int64(3), object(3)\n",
      "memory usage: 497.5+ KB\n"
     ]
    }
   ],
   "source": [
    "oscar_df.info()"
   ]
  },
  {
   "cell_type": "markdown",
   "metadata": {},
   "source": [
    "As per Academy Awards rules, movies nominated in a given year have to be exhibited between March and December of the previous year, so the year_film and year_ceremony columns are redundant, as for every datapoint it should be:\n",
    "year_film = year_ceremony - 1\n",
    "We check that this is the case. "
   ]
  },
  {
   "cell_type": "code",
   "execution_count": 324,
   "metadata": {},
   "outputs": [
    {
     "data": {
      "text/html": [
       "<div>\n",
       "<style scoped>\n",
       "    .dataframe tbody tr th:only-of-type {\n",
       "        vertical-align: middle;\n",
       "    }\n",
       "\n",
       "    .dataframe tbody tr th {\n",
       "        vertical-align: top;\n",
       "    }\n",
       "\n",
       "    .dataframe thead th {\n",
       "        text-align: right;\n",
       "    }\n",
       "</style>\n",
       "<table border=\"1\" class=\"dataframe\">\n",
       "  <thead>\n",
       "    <tr style=\"text-align: right;\">\n",
       "      <th></th>\n",
       "      <th>year_film</th>\n",
       "      <th>year_ceremony</th>\n",
       "      <th>ceremony</th>\n",
       "      <th>category</th>\n",
       "      <th>name</th>\n",
       "      <th>film</th>\n",
       "      <th>winner</th>\n",
       "    </tr>\n",
       "  </thead>\n",
       "  <tbody>\n",
       "  </tbody>\n",
       "</table>\n",
       "</div>"
      ],
      "text/plain": [
       "Empty DataFrame\n",
       "Columns: [year_film, year_ceremony, ceremony, category, name, film, winner]\n",
       "Index: []"
      ]
     },
     "execution_count": 324,
     "metadata": {},
     "output_type": "execute_result"
    }
   ],
   "source": [
    "mask = oscar_df.year_film == (oscar_df.year_ceremony-1)\n",
    "oscar_df[~mask]"
   ]
  },
  {
   "cell_type": "markdown",
   "metadata": {},
   "source": [
    "The same argument of redundancy applies to the ceremony column. We drop these columns, keeping only year_film."
   ]
  },
  {
   "cell_type": "code",
   "execution_count": 325,
   "metadata": {},
   "outputs": [],
   "source": [
    "oscar_df = oscar_df.drop(['year_ceremony','ceremony'], axis=1)"
   ]
  },
  {
   "cell_type": "markdown",
   "metadata": {},
   "source": [
    "We see that some datapoints have null values in the 'film' column. We explore this data to find out in what categories this is happening"
   ]
  },
  {
   "cell_type": "code",
   "execution_count": 326,
   "metadata": {},
   "outputs": [
    {
     "data": {
      "text/plain": [
       "array(['ENGINEERING EFFECTS', 'WRITING (Title Writing)', 'SPECIAL AWARD',\n",
       "       'SOUND RECORDING', 'ASSISTANT DIRECTOR',\n",
       "       'IRVING G. THALBERG MEMORIAL AWARD',\n",
       "       'SPECIAL FOREIGN LANGUAGE FILM AWARD',\n",
       "       'HONORARY FOREIGN LANGUAGE FILM AWARD', 'HONORARY AWARD',\n",
       "       'JEAN HERSHOLT HUMANITARIAN AWARD', 'SPECIAL ACHIEVEMENT AWARD'],\n",
       "      dtype=object)"
      ]
     },
     "execution_count": 326,
     "metadata": {},
     "output_type": "execute_result"
    }
   ],
   "source": [
    "oscar_df[oscar_df.film.isnull()].category.unique()"
   ]
  },
  {
   "cell_type": "markdown",
   "metadata": {},
   "source": [
    "Some of these categories regard special honorary awards which are not necessarily related to a film: we are going to ignore these rows."
   ]
  },
  {
   "cell_type": "code",
   "execution_count": 327,
   "metadata": {},
   "outputs": [
    {
     "data": {
      "text/html": [
       "<div>\n",
       "<style scoped>\n",
       "    .dataframe tbody tr th:only-of-type {\n",
       "        vertical-align: middle;\n",
       "    }\n",
       "\n",
       "    .dataframe tbody tr th {\n",
       "        vertical-align: top;\n",
       "    }\n",
       "\n",
       "    .dataframe thead th {\n",
       "        text-align: right;\n",
       "    }\n",
       "</style>\n",
       "<table border=\"1\" class=\"dataframe\">\n",
       "  <thead>\n",
       "    <tr style=\"text-align: right;\">\n",
       "      <th></th>\n",
       "      <th>year_film</th>\n",
       "      <th>category</th>\n",
       "      <th>name</th>\n",
       "      <th>film</th>\n",
       "      <th>winner</th>\n",
       "    </tr>\n",
       "  </thead>\n",
       "  <tbody>\n",
       "    <tr>\n",
       "      <th>16</th>\n",
       "      <td>1927</td>\n",
       "      <td>ENGINEERING EFFECTS</td>\n",
       "      <td>Ralph Hammeras</td>\n",
       "      <td>NaN</td>\n",
       "      <td>False</td>\n",
       "    </tr>\n",
       "    <tr>\n",
       "      <th>18</th>\n",
       "      <td>1927</td>\n",
       "      <td>ENGINEERING EFFECTS</td>\n",
       "      <td>Nugent Slaughter</td>\n",
       "      <td>NaN</td>\n",
       "      <td>False</td>\n",
       "    </tr>\n",
       "    <tr>\n",
       "      <th>31</th>\n",
       "      <td>1927</td>\n",
       "      <td>WRITING (Title Writing)</td>\n",
       "      <td>Joseph Farnham</td>\n",
       "      <td>NaN</td>\n",
       "      <td>True</td>\n",
       "    </tr>\n",
       "    <tr>\n",
       "      <th>32</th>\n",
       "      <td>1927</td>\n",
       "      <td>WRITING (Title Writing)</td>\n",
       "      <td>George Marion, Jr.</td>\n",
       "      <td>NaN</td>\n",
       "      <td>False</td>\n",
       "    </tr>\n",
       "    <tr>\n",
       "      <th>145</th>\n",
       "      <td>1930</td>\n",
       "      <td>SOUND RECORDING</td>\n",
       "      <td>Samuel Goldwyn - United Artists Studio Sound D...</td>\n",
       "      <td>NaN</td>\n",
       "      <td>False</td>\n",
       "    </tr>\n",
       "  </tbody>\n",
       "</table>\n",
       "</div>"
      ],
      "text/plain": [
       "     year_film                 category  \\\n",
       "16        1927      ENGINEERING EFFECTS   \n",
       "18        1927      ENGINEERING EFFECTS   \n",
       "31        1927  WRITING (Title Writing)   \n",
       "32        1927  WRITING (Title Writing)   \n",
       "145       1930          SOUND RECORDING   \n",
       "\n",
       "                                                  name film  winner  \n",
       "16                                      Ralph Hammeras  NaN   False  \n",
       "18                                    Nugent Slaughter  NaN   False  \n",
       "31                                      Joseph Farnham  NaN    True  \n",
       "32                                  George Marion, Jr.  NaN   False  \n",
       "145  Samuel Goldwyn - United Artists Studio Sound D...  NaN   False  "
      ]
     },
     "execution_count": 327,
     "metadata": {},
     "output_type": "execute_result"
    }
   ],
   "source": [
    "mask = (oscar_df.category == 'HONORARY AWARD') | \\\n",
    "       (oscar_df.category == 'SPECIAL AWARD') | \\\n",
    "       (oscar_df.category == 'IRVING G. THALBERG MEMORIAL AWARD') | \\\n",
    "       (oscar_df.category == 'JEAN HERSHOLT HUMANITARIAN AWARD') | \\\n",
    "       (oscar_df.category == 'SPECIAL ACHIEVEMENT AWARD') | \\\n",
    "       (oscar_df.category == 'HONORARY FOREIGN LANGUAGE FILM AWARD') | \\\n",
    "       (oscar_df.category == 'SPECIAL FOREIGN LANGUAGE FILM AWARD')\n",
    "\n",
    "oscar_df = oscar_df[~mask]\n",
    "oscar_df[oscar_df.film.isnull()].head()"
   ]
  },
  {
   "cell_type": "markdown",
   "metadata": {},
   "source": [
    "As to the other 30 rows, by checking manually, we can see that the data we are looking for is also missing on the official Oscars website: it is possible, for example, that the people nominated for these categories would work on different films in the same year.\n",
    "For this reason we are going to drop these rows."
   ]
  },
  {
   "cell_type": "code",
   "execution_count": 328,
   "metadata": {},
   "outputs": [
    {
     "name": "stdout",
     "output_type": "stream",
     "text": [
      "<class 'pandas.core.frame.DataFrame'>\n",
      "Int64Index: 10091 entries, 0 to 10390\n",
      "Data columns (total 5 columns):\n",
      " #   Column     Non-Null Count  Dtype \n",
      "---  ------     --------------  ----- \n",
      " 0   year_film  10091 non-null  int64 \n",
      " 1   category   10091 non-null  object\n",
      " 2   name       10091 non-null  object\n",
      " 3   film       10091 non-null  object\n",
      " 4   winner     10091 non-null  bool  \n",
      "dtypes: bool(1), int64(1), object(3)\n",
      "memory usage: 404.0+ KB\n"
     ]
    }
   ],
   "source": [
    "oscar_df = oscar_df.dropna(subset=['film'])\n",
    "oscar_df.info()"
   ]
  },
  {
   "cell_type": "markdown",
   "metadata": {},
   "source": [
    "The analysis we are going to perform is focused on the films. For this reason we are going to drop the name and category columns and group by the data based on the film, creating two columns counting the number of nomination and the number of wins for each film."
   ]
  },
  {
   "cell_type": "code",
   "execution_count": 329,
   "metadata": {},
   "outputs": [],
   "source": [
    "oscar_df.drop(['category','name'],axis=1)\n",
    "oscar_df['nominations'] = 1\n",
    "oscar_df['winner'] = oscar_df['winner'].apply(lambda x:int(x))\n",
    "oscar_df['identifier'] = [str(oscar_df.year_film.iloc[i]) + oscar_df.film.iloc[i] for i in range(len(oscar_df.film))]\n",
    "\n",
    "#we need to groupby the oscar_df for the different films, specifying also the year to distinguish films with the same title\n",
    "#nominated in different years. To do this we create an identifier column that is than re-divided into the two initial columns.\n",
    "\n",
    "oscar_df = oscar_df.groupby('identifier').sum()\n",
    "oscar_df['film'] = [oscar_df.index[i][4:] for i in range(len(oscar_df.year_film))]\n",
    "oscar_df['year_film'] = [int(oscar_df.index[i][0:4]) for i in range(len(oscar_df.year_film))]\n",
    "oscar_df = oscar_df.set_index(pd.Series(range(len(oscar_df.film))))"
   ]
  },
  {
   "cell_type": "markdown",
   "metadata": {},
   "source": [
    "After this changes in the dataset we end up with 4934 different films: the features are the film title, the year of publishing, the total number of nominations and the total number of awards won."
   ]
  },
  {
   "cell_type": "code",
   "execution_count": 330,
   "metadata": {},
   "outputs": [
    {
     "name": "stdout",
     "output_type": "stream",
     "text": [
      "<class 'pandas.core.frame.DataFrame'>\n",
      "Int64Index: 4934 entries, 0 to 4933\n",
      "Data columns (total 4 columns):\n",
      " #   Column       Non-Null Count  Dtype \n",
      "---  ------       --------------  ----- \n",
      " 0   year_film    4934 non-null   int64 \n",
      " 1   winner       4934 non-null   int64 \n",
      " 2   nominations  4934 non-null   int64 \n",
      " 3   film         4934 non-null   object\n",
      "dtypes: int64(3), object(1)\n",
      "memory usage: 192.7+ KB\n"
     ]
    }
   ],
   "source": [
    "oscar_df.info()"
   ]
  },
  {
   "cell_type": "code",
   "execution_count": 331,
   "metadata": {},
   "outputs": [
    {
     "data": {
      "text/html": [
       "<div>\n",
       "<style scoped>\n",
       "    .dataframe tbody tr th:only-of-type {\n",
       "        vertical-align: middle;\n",
       "    }\n",
       "\n",
       "    .dataframe tbody tr th {\n",
       "        vertical-align: top;\n",
       "    }\n",
       "\n",
       "    .dataframe thead th {\n",
       "        text-align: right;\n",
       "    }\n",
       "</style>\n",
       "<table border=\"1\" class=\"dataframe\">\n",
       "  <thead>\n",
       "    <tr style=\"text-align: right;\">\n",
       "      <th></th>\n",
       "      <th>year_film</th>\n",
       "      <th>winner</th>\n",
       "      <th>nominations</th>\n",
       "    </tr>\n",
       "  </thead>\n",
       "  <tbody>\n",
       "    <tr>\n",
       "      <th>count</th>\n",
       "      <td>4934.000000</td>\n",
       "      <td>4934.000000</td>\n",
       "      <td>4934.000000</td>\n",
       "    </tr>\n",
       "    <tr>\n",
       "      <th>mean</th>\n",
       "      <td>1974.010742</td>\n",
       "      <td>0.421362</td>\n",
       "      <td>2.045197</td>\n",
       "    </tr>\n",
       "    <tr>\n",
       "      <th>std</th>\n",
       "      <td>26.280313</td>\n",
       "      <td>1.001822</td>\n",
       "      <td>2.098474</td>\n",
       "    </tr>\n",
       "    <tr>\n",
       "      <th>min</th>\n",
       "      <td>1927.000000</td>\n",
       "      <td>0.000000</td>\n",
       "      <td>1.000000</td>\n",
       "    </tr>\n",
       "    <tr>\n",
       "      <th>25%</th>\n",
       "      <td>1950.000000</td>\n",
       "      <td>0.000000</td>\n",
       "      <td>1.000000</td>\n",
       "    </tr>\n",
       "    <tr>\n",
       "      <th>50%</th>\n",
       "      <td>1973.000000</td>\n",
       "      <td>0.000000</td>\n",
       "      <td>1.000000</td>\n",
       "    </tr>\n",
       "    <tr>\n",
       "      <th>75%</th>\n",
       "      <td>1997.000000</td>\n",
       "      <td>1.000000</td>\n",
       "      <td>2.000000</td>\n",
       "    </tr>\n",
       "    <tr>\n",
       "      <th>max</th>\n",
       "      <td>2019.000000</td>\n",
       "      <td>11.000000</td>\n",
       "      <td>14.000000</td>\n",
       "    </tr>\n",
       "  </tbody>\n",
       "</table>\n",
       "</div>"
      ],
      "text/plain": [
       "         year_film       winner  nominations\n",
       "count  4934.000000  4934.000000  4934.000000\n",
       "mean   1974.010742     0.421362     2.045197\n",
       "std      26.280313     1.001822     2.098474\n",
       "min    1927.000000     0.000000     1.000000\n",
       "25%    1950.000000     0.000000     1.000000\n",
       "50%    1973.000000     0.000000     1.000000\n",
       "75%    1997.000000     1.000000     2.000000\n",
       "max    2019.000000    11.000000    14.000000"
      ]
     },
     "execution_count": 331,
     "metadata": {},
     "output_type": "execute_result"
    }
   ],
   "source": [
    "oscar_df.describe()"
   ]
  },
  {
   "cell_type": "markdown",
   "metadata": {},
   "source": [
    "## Metadata dataframe"
   ]
  },
  {
   "cell_type": "code",
   "execution_count": 332,
   "metadata": {},
   "outputs": [
    {
     "name": "stdout",
     "output_type": "stream",
     "text": [
      "<class 'pandas.core.frame.DataFrame'>\n",
      "RangeIndex: 45466 entries, 0 to 45465\n",
      "Data columns (total 24 columns):\n",
      " #   Column                 Non-Null Count  Dtype  \n",
      "---  ------                 --------------  -----  \n",
      " 0   adult                  45466 non-null  object \n",
      " 1   belongs_to_collection  4494 non-null   object \n",
      " 2   budget                 45466 non-null  object \n",
      " 3   genres                 45466 non-null  object \n",
      " 4   homepage               7782 non-null   object \n",
      " 5   id                     45466 non-null  object \n",
      " 6   imdb_id                45449 non-null  object \n",
      " 7   original_language      45455 non-null  object \n",
      " 8   original_title         45466 non-null  object \n",
      " 9   overview               44512 non-null  object \n",
      " 10  popularity             45461 non-null  object \n",
      " 11  poster_path            45080 non-null  object \n",
      " 12  production_companies   45463 non-null  object \n",
      " 13  production_countries   45463 non-null  object \n",
      " 14  release_date           45379 non-null  object \n",
      " 15  revenue                45460 non-null  float64\n",
      " 16  runtime                45203 non-null  float64\n",
      " 17  spoken_languages       45460 non-null  object \n",
      " 18  status                 45379 non-null  object \n",
      " 19  tagline                20412 non-null  object \n",
      " 20  title                  45460 non-null  object \n",
      " 21  video                  45460 non-null  object \n",
      " 22  vote_average           45460 non-null  float64\n",
      " 23  vote_count             45460 non-null  float64\n",
      "dtypes: float64(4), object(20)\n",
      "memory usage: 8.3+ MB\n"
     ]
    }
   ],
   "source": [
    "metadata_df.info()"
   ]
  },
  {
   "cell_type": "markdown",
   "metadata": {},
   "source": [
    "#### Dropping columns"
   ]
  },
  {
   "cell_type": "markdown",
   "metadata": {},
   "source": [
    "We now go on with the data exploration and cleaning of the Metadata dataset. As we can see the dataset has 23 columns, many of which useless for the scope of this project:\n",
    "- 'belongs to collection': describes whether or not a film belongs in one of the listed collections\n",
    "- 'homepage': a link to the films website\n",
    "- 'id' and 'imdb_id': a numerical identifier of the film in the database\n",
    "- 'overview': a summarized plot of the movie\n",
    "- 'tagline': a sentence the film was advertised with\n",
    "- 'poster_path': the name of a file containing the poster for the film\n",
    "- 'original_title': the title in the original language (since in the oscar dataset all titles are in english, this is useless)\n",
    "\n",
    "On the other hand, 'video' is a boolean value that distinguishes films from other types of video content: in this project we are only interested in studying data related to films, so we'll drop rows having video value 1 and we'll drop the column.\n",
    "We also checked that the vast majority of datapoints in the dataset have False as value in this column. \n",
    "\n",
    "We'll do the same thing for the 'status' column, which identifies whether films have been released or not: films that are not released aren't eligible for an Oscar nomination. Once again, dropping these rows doesn't cause a big loss in the number of data points.\n",
    "\n",
    "Finally, the 'adult' column only has a few datapoints with True value, so the column doesn't carry much information, it will be dropped."
   ]
  },
  {
   "cell_type": "code",
   "execution_count": 333,
   "metadata": {},
   "outputs": [
    {
     "data": {
      "text/plain": [
       "Released           45014\n",
       "Rumored              230\n",
       "Post Production       98\n",
       "In Production         20\n",
       "Planned               15\n",
       "Canceled               2\n",
       "Name: status, dtype: int64"
      ]
     },
     "execution_count": 333,
     "metadata": {},
     "output_type": "execute_result"
    }
   ],
   "source": [
    "metadata_df.status.value_counts()"
   ]
  },
  {
   "cell_type": "code",
   "execution_count": 334,
   "metadata": {},
   "outputs": [
    {
     "data": {
      "text/plain": [
       "False    45367\n",
       "True        93\n",
       "Name: video, dtype: int64"
      ]
     },
     "execution_count": 334,
     "metadata": {},
     "output_type": "execute_result"
    }
   ],
   "source": [
    "metadata_df.video.value_counts()"
   ]
  },
  {
   "cell_type": "code",
   "execution_count": 335,
   "metadata": {},
   "outputs": [
    {
     "data": {
      "text/plain": [
       "False                                                                                                                             45454\n",
       "True                                                                                                                                  9\n",
       " - Written by Ørnås                                                                                                                   1\n",
       " Rune Balot goes to a casino connected to the October corporation to try to wrap up her case once and for all.                        1\n",
       " Avalanche Sharks tells the story of a bikini contest that turns into a horrifying affair when it is hit by a shark avalanche.        1\n",
       "Name: adult, dtype: int64"
      ]
     },
     "execution_count": 335,
     "metadata": {},
     "output_type": "execute_result"
    }
   ],
   "source": [
    "metadata_df.adult.value_counts()"
   ]
  },
  {
   "cell_type": "code",
   "execution_count": 336,
   "metadata": {},
   "outputs": [],
   "source": [
    "metadata_df = metadata_df.drop(['adult','belongs_to_collection','homepage','id','imdb_id','overview','tagline','poster_path','original_title'], axis=1)\n",
    "metadata_df = metadata_df[metadata_df.video == False]\n",
    "metadata_df = metadata_df[metadata_df.status == 'Released']\n",
    "metadata_df = metadata_df.drop(['video','status'], axis=1)"
   ]
  },
  {
   "cell_type": "markdown",
   "metadata": {},
   "source": [
    "#### Revenue and budget"
   ]
  },
  {
   "cell_type": "markdown",
   "metadata": {},
   "source": [
    "As to the budget and revenue columns, we can see only a small portion of the films in the dataset have non-zero values. The information provided by these features could be useful to highlight a difference between movies that have been nominated and films that haven't: for this analysis we will ignore the zero values."
   ]
  },
  {
   "cell_type": "code",
   "execution_count": 337,
   "metadata": {},
   "outputs": [
    {
     "name": "stdout",
     "output_type": "stream",
     "text": [
      "Non-zero budget values:  8860\n",
      "Non-zero revenue values:  7395\n"
     ]
    }
   ],
   "source": [
    "metadata_df.budget = metadata_df.budget.apply(lambda x:float(x)) #we transform the type to float\n",
    "\n",
    "print(\"Non-zero budget values: \", sum(metadata_df.budget>0))\n",
    "print(\"Non-zero revenue values: \", sum(metadata_df.revenue>0))"
   ]
  },
  {
   "cell_type": "markdown",
   "metadata": {},
   "source": [
    "#### Popularity, vote average and vote count"
   ]
  },
  {
   "cell_type": "code",
   "execution_count": 338,
   "metadata": {},
   "outputs": [
    {
     "data": {
      "text/plain": [
       "count    44921.000000\n",
       "mean         5.625451\n",
       "std          1.912502\n",
       "min          0.000000\n",
       "25%          5.000000\n",
       "50%          6.000000\n",
       "75%          6.800000\n",
       "max         10.000000\n",
       "Name: vote_average, dtype: float64"
      ]
     },
     "execution_count": 338,
     "metadata": {},
     "output_type": "execute_result"
    },
    {
     "data": {
      "image/png": "[encoded data removed]",
      "text/plain": [
       "<Figure size 432x288 with 1 Axes>"
      ]
     },
     "metadata": {
      "needs_background": "light"
     },
     "output_type": "display_data"
    }
   ],
   "source": [
    "plt.hist(metadata_df.vote_average)\n",
    "metadata_df.vote_average.describe()"
   ]
  },
  {
   "cell_type": "code",
   "execution_count": 339,
   "metadata": {},
   "outputs": [
    {
     "data": {
      "text/plain": [
       "count    44921.000000\n",
       "mean       111.103560\n",
       "std        494.117134\n",
       "min          0.000000\n",
       "25%          3.000000\n",
       "50%         10.000000\n",
       "75%         35.000000\n",
       "max      14075.000000\n",
       "Name: vote_count, dtype: float64"
      ]
     },
     "execution_count": 339,
     "metadata": {},
     "output_type": "execute_result"
    },
    {
     "data": {
      "image/png": "[encoded data removed]",
      "text/plain": [
       "<Figure size 432x288 with 1 Axes>"
      ]
     },
     "metadata": {
      "needs_background": "light"
     },
     "output_type": "display_data"
    }
   ],
   "source": [
    "plt.hist(metadata_df.vote_count)\n",
    "metadata_df.vote_count.describe()"
   ]
  },
  {
   "cell_type": "markdown",
   "metadata": {},
   "source": [
    "As we can see from the histogram, the vast majority of films have a vote count between 0 and 1000, but the highest value in the column is 14075, associated with the film Inception."
   ]
  },
  {
   "cell_type": "code",
   "execution_count": 340,
   "metadata": {},
   "outputs": [
    {
     "data": {
      "text/html": [
       "<div>\n",
       "<style scoped>\n",
       "    .dataframe tbody tr th:only-of-type {\n",
       "        vertical-align: middle;\n",
       "    }\n",
       "\n",
       "    .dataframe tbody tr th {\n",
       "        vertical-align: top;\n",
       "    }\n",
       "\n",
       "    .dataframe thead th {\n",
       "        text-align: right;\n",
       "    }\n",
       "</style>\n",
       "<table border=\"1\" class=\"dataframe\">\n",
       "  <thead>\n",
       "    <tr style=\"text-align: right;\">\n",
       "      <th></th>\n",
       "      <th>budget</th>\n",
       "      <th>genres</th>\n",
       "      <th>original_language</th>\n",
       "      <th>popularity</th>\n",
       "      <th>production_companies</th>\n",
       "      <th>production_countries</th>\n",
       "      <th>release_date</th>\n",
       "      <th>revenue</th>\n",
       "      <th>runtime</th>\n",
       "      <th>spoken_languages</th>\n",
       "      <th>title</th>\n",
       "      <th>vote_average</th>\n",
       "      <th>vote_count</th>\n",
       "    </tr>\n",
       "  </thead>\n",
       "  <tbody>\n",
       "    <tr>\n",
       "      <th>15480</th>\n",
       "      <td>160000000.0</td>\n",
       "      <td>[{'id': 28, 'name': 'Action'}, {'id': 53, 'nam...</td>\n",
       "      <td>en</td>\n",
       "      <td>29.108149</td>\n",
       "      <td>[{'name': 'Legendary Pictures', 'id': 923}, {'...</td>\n",
       "      <td>[{'iso_3166_1': 'GB', 'name': 'United Kingdom'...</td>\n",
       "      <td>2010-07-14</td>\n",
       "      <td>825532764.0</td>\n",
       "      <td>148.0</td>\n",
       "      <td>[{'iso_639_1': 'en', 'name': 'English'}]</td>\n",
       "      <td>Inception</td>\n",
       "      <td>8.1</td>\n",
       "      <td>14075.0</td>\n",
       "    </tr>\n",
       "  </tbody>\n",
       "</table>\n",
       "</div>"
      ],
      "text/plain": [
       "            budget                                             genres  \\\n",
       "15480  160000000.0  [{'id': 28, 'name': 'Action'}, {'id': 53, 'nam...   \n",
       "\n",
       "      original_language popularity  \\\n",
       "15480                en  29.108149   \n",
       "\n",
       "                                    production_companies  \\\n",
       "15480  [{'name': 'Legendary Pictures', 'id': 923}, {'...   \n",
       "\n",
       "                                    production_countries release_date  \\\n",
       "15480  [{'iso_3166_1': 'GB', 'name': 'United Kingdom'...   2010-07-14   \n",
       "\n",
       "           revenue  runtime                          spoken_languages  \\\n",
       "15480  825532764.0    148.0  [{'iso_639_1': 'en', 'name': 'English'}]   \n",
       "\n",
       "           title  vote_average  vote_count  \n",
       "15480  Inception           8.1     14075.0  "
      ]
     },
     "execution_count": 340,
     "metadata": {},
     "output_type": "execute_result"
    }
   ],
   "source": [
    "metadata_df[metadata_df.vote_count == 14075]"
   ]
  },
  {
   "cell_type": "code",
   "execution_count": 341,
   "metadata": {},
   "outputs": [
    {
     "name": "stdout",
     "output_type": "stream",
     "text": [
      "count    44921.000000\n",
      "mean         2.943406\n",
      "std          6.028436\n",
      "min          0.000000\n",
      "25%          0.392813\n",
      "50%          1.138586\n",
      "75%          3.740902\n",
      "max        547.488298\n",
      "Name: popularity, dtype: float64\n"
     ]
    },
    {
     "data": {
      "text/html": [
       "<div>\n",
       "<style scoped>\n",
       "    .dataframe tbody tr th:only-of-type {\n",
       "        vertical-align: middle;\n",
       "    }\n",
       "\n",
       "    .dataframe tbody tr th {\n",
       "        vertical-align: top;\n",
       "    }\n",
       "\n",
       "    .dataframe thead th {\n",
       "        text-align: right;\n",
       "    }\n",
       "</style>\n",
       "<table border=\"1\" class=\"dataframe\">\n",
       "  <thead>\n",
       "    <tr style=\"text-align: right;\">\n",
       "      <th></th>\n",
       "      <th>budget</th>\n",
       "      <th>genres</th>\n",
       "      <th>original_language</th>\n",
       "      <th>popularity</th>\n",
       "      <th>production_companies</th>\n",
       "      <th>production_countries</th>\n",
       "      <th>release_date</th>\n",
       "      <th>revenue</th>\n",
       "      <th>runtime</th>\n",
       "      <th>spoken_languages</th>\n",
       "      <th>title</th>\n",
       "      <th>vote_average</th>\n",
       "      <th>vote_count</th>\n",
       "    </tr>\n",
       "  </thead>\n",
       "  <tbody>\n",
       "    <tr>\n",
       "      <th>30700</th>\n",
       "      <td>74000000.0</td>\n",
       "      <td>[{'id': 10751, 'name': 'Family'}, {'id': 16, '...</td>\n",
       "      <td>en</td>\n",
       "      <td>547.488298</td>\n",
       "      <td>[{'name': 'Universal Pictures', 'id': 33}, {'n...</td>\n",
       "      <td>[{'iso_3166_1': 'US', 'name': 'United States o...</td>\n",
       "      <td>2015-06-17</td>\n",
       "      <td>1.156731e+09</td>\n",
       "      <td>91.0</td>\n",
       "      <td>[{'iso_639_1': 'en', 'name': 'English'}]</td>\n",
       "      <td>Minions</td>\n",
       "      <td>6.4</td>\n",
       "      <td>4729.0</td>\n",
       "    </tr>\n",
       "  </tbody>\n",
       "</table>\n",
       "</div>"
      ],
      "text/plain": [
       "           budget                                             genres  \\\n",
       "30700  74000000.0  [{'id': 10751, 'name': 'Family'}, {'id': 16, '...   \n",
       "\n",
       "      original_language  popularity  \\\n",
       "30700                en  547.488298   \n",
       "\n",
       "                                    production_companies  \\\n",
       "30700  [{'name': 'Universal Pictures', 'id': 33}, {'n...   \n",
       "\n",
       "                                    production_countries release_date  \\\n",
       "30700  [{'iso_3166_1': 'US', 'name': 'United States o...   2015-06-17   \n",
       "\n",
       "            revenue  runtime                          spoken_languages  \\\n",
       "30700  1.156731e+09     91.0  [{'iso_639_1': 'en', 'name': 'English'}]   \n",
       "\n",
       "         title  vote_average  vote_count  \n",
       "30700  Minions           6.4      4729.0  "
      ]
     },
     "execution_count": 341,
     "metadata": {},
     "output_type": "execute_result"
    },
    {
     "data": {
      "image/png": "[encoded data removed]",
      "text/plain": [
       "<Figure size 432x288 with 1 Axes>"
      ]
     },
     "metadata": {
      "needs_background": "light"
     },
     "output_type": "display_data"
    }
   ],
   "source": [
    "metadata_df.popularity = metadata_df.popularity.apply(lambda x:float(x))\n",
    "plt.hist(metadata_df.popularity)\n",
    "print(metadata_df.popularity.describe())\n",
    "metadata_df[metadata_df.popularity == metadata_df.popularity.max()]"
   ]
  },
  {
   "cell_type": "markdown",
   "metadata": {},
   "source": [
    "The value of popularity is not defined in the description of the dataset on Kaggle, so its characteristics are not really clear. It's a positive float value and almost all movies have a popularity value less than 10, but the maximum value is reached by the movie Minions at over 547.\n",
    "\n",
    "All the features in this section (vote count, vote average and popularity) are values that can be changed after the nomination of a movie and for this reason, could give an unfair advantage to a model trying to predict nominations."
   ]
  },
  {
   "cell_type": "markdown",
   "metadata": {},
   "source": [
    "#### Runtime"
   ]
  },
  {
   "cell_type": "markdown",
   "metadata": {},
   "source": [
    "We now consider the runtime column. We can see from the data from the \"describe\" function that 75% of the films are 107 minutes long, but the maximum value for runtime is 1256. The column also has some missing values.\n",
    "We decide to drop the rows with runtime higher than 210, as this is around the maximum lenght for any feature film and the vast majority of our data is in this interval. We replace the null values and the zeros with the mean of the column as it is a good indicator of what approximately could be the runtime of these movies."
   ]
  },
  {
   "cell_type": "code",
   "execution_count": 342,
   "metadata": {},
   "outputs": [
    {
     "data": {
      "image/png": "[encoded data removed]",
      "text/plain": [
       "<Figure size 432x288 with 1 Axes>"
      ]
     },
     "metadata": {
      "needs_background": "light"
     },
     "output_type": "display_data"
    }
   ],
   "source": [
    "plt.hist(metadata_df.runtime,100)\n",
    "plt.show()"
   ]
  },
  {
   "cell_type": "code",
   "execution_count": 343,
   "metadata": {},
   "outputs": [
    {
     "name": "stdout",
     "output_type": "stream",
     "text": [
      "285\n"
     ]
    },
    {
     "data": {
      "image/png": "[encoded data removed]",
      "text/plain": [
       "<Figure size 432x288 with 1 Axes>"
      ]
     },
     "metadata": {
      "needs_background": "light"
     },
     "output_type": "display_data"
    }
   ],
   "source": [
    "print(len(metadata_df[metadata_df.runtime>210].runtime))\n",
    "metadata_df = metadata_df[metadata_df.runtime<=210]\n",
    "runtime_mean = metadata_df[metadata_df.runtime>0].runtime.mean()\n",
    "metadata_df.runtime = metadata_df.runtime.fillna(runtime_mean)\n",
    "metadata_df.runtime = metadata_df.runtime.replace(0,runtime_mean)\n",
    "plt.hist(metadata_df.runtime,100)\n",
    "plt.show()"
   ]
  },
  {
   "cell_type": "markdown",
   "metadata": {},
   "source": [
    "#### Release date"
   ]
  },
  {
   "cell_type": "markdown",
   "metadata": {},
   "source": [
    "We see that 62 datapoints have null values in the release date column. As this is just a small number of datapoints and the release date couldn't be retrieved in any way other than through manual checking, we are going to drop this rows."
   ]
  },
  {
   "cell_type": "code",
   "execution_count": 344,
   "metadata": {},
   "outputs": [],
   "source": [
    "mask = metadata_df.release_date.isna()\n",
    "metadata_df = metadata_df[~mask]"
   ]
  },
  {
   "cell_type": "markdown",
   "metadata": {},
   "source": [
    "To better analyse the information given by the release date of a film, we extract from the data in the column (which is in the form yyyy-mm-dd), the release year and the day of the year going from 1 to 365."
   ]
  },
  {
   "cell_type": "code",
   "execution_count": 345,
   "metadata": {},
   "outputs": [],
   "source": [
    "def convert_date(date): #function to convert a list [month,day], into the numbered day of the year\n",
    "    year = int(date[0:4])\n",
    "    day = [int(date[5:7]),int(date[8:10])]\n",
    "    month_days=[0,31,59,90,120,151,181,212,243,273,304,334]\n",
    "    return [year,day[1]+month_days[day[0]-1]]"
   ]
  },
  {
   "cell_type": "code",
   "execution_count": 346,
   "metadata": {},
   "outputs": [],
   "source": [
    "metadata_df['year'] = metadata_df.release_date\n",
    "metadata_df['day'] = metadata_df.release_date\n",
    "\n",
    "metadata_df['year'] = metadata_df['year'].apply(lambda x:convert_date(x)[0])\n",
    "metadata_df['day'] = metadata_df['day'].apply(lambda x:convert_date(x)[1])\n",
    "\n",
    "metadata_df = metadata_df.drop(['release_date'], axis=1)"
   ]
  },
  {
   "cell_type": "markdown",
   "metadata": {},
   "source": [
    "We observe that a disproportionate number of movies has 1 as its release day. This is probably because, when the actual release date was not clear, the first of january of that year was inputted into the df."
   ]
  },
  {
   "cell_type": "code",
   "execution_count": 347,
   "metadata": {},
   "outputs": [
    {
     "data": {
      "text/plain": [
       "1      3027\n",
       "274     341\n",
       "121     266\n",
       "60      261\n",
       "152     258\n",
       "       ... \n",
       "186      57\n",
       "8        55\n",
       "5        52\n",
       "4        50\n",
       "3        42\n",
       "Name: day, Length: 365, dtype: int64"
      ]
     },
     "execution_count": 347,
     "metadata": {},
     "output_type": "execute_result"
    }
   ],
   "source": [
    "metadata_df.day.value_counts()"
   ]
  },
  {
   "cell_type": "markdown",
   "metadata": {},
   "source": [
    "The first Academy Award Ceremony was celebrated in 1928, so we can drop any film released before 1927. The metadata dataset was created in 2016, so we are going to drop from both datasets the movies published after that year."
   ]
  },
  {
   "cell_type": "code",
   "execution_count": 348,
   "metadata": {},
   "outputs": [],
   "source": [
    "metadata_df = metadata_df[metadata_df.year >= 1927]\n",
    "metadata_df = metadata_df[metadata_df.year < 2017]\n",
    "oscar_df = oscar_df[oscar_df.year_film < 2017]"
   ]
  },
  {
   "cell_type": "markdown",
   "metadata": {},
   "source": [
    "#### Json formatted columns"
   ]
  },
  {
   "cell_type": "markdown",
   "metadata": {},
   "source": [
    "We now go on to change the format of the columns that are now formatted with JSON (JavaScript Object Notation): genres, production companies, production countries and spoken languages."
   ]
  },
  {
   "cell_type": "code",
   "execution_count": 349,
   "metadata": {},
   "outputs": [
    {
     "name": "stdout",
     "output_type": "stream",
     "text": [
      "8\n",
      "20\n",
      "['Animation', 'Comedy', 'Family', 'Adventure', 'Fantasy', 'Romance', 'Drama', 'Action', 'Crime', 'Thriller', 'Horror', 'History', 'Science Fiction', 'Mystery', 'War', 'Foreign', 'Music', 'Documentary', 'Western', 'TV Movie']\n"
     ]
    }
   ],
   "source": [
    "n = len(metadata_df.genres)\n",
    "numero = []\n",
    "different_genres = []\n",
    "film_genre = [[] for i in range(n)]\n",
    "\n",
    "for i in range(n):\n",
    "    #the js.loads function takes a string formatted in JSON as returns a list of dictionaries\n",
    "    list_dict = js.loads(metadata_df.genres.iloc[i].replace(\"'\",'\"')) # the difference between ' and \" generated errors\n",
    "    numero.append(len(list_dict))\n",
    "    for dict in list_dict:\n",
    "        film_genre[i].append(dict['name'])\n",
    "        if dict['name'] not in different_genres: \n",
    "            different_genres.append(dict['name'])\n",
    "    \n",
    "metadata_df['genres'] = film_genre\n",
    "\n",
    "print(max(numero))\n",
    "print(len(different_genres))\n",
    "print(different_genres)"
   ]
  },
  {
   "cell_type": "markdown",
   "metadata": {},
   "source": [
    "We find that the maximum number of genres for a single film in this dataset is 8 and that are a total of 20 possible different genres. We have also replaced the genres column with lists of genres instead of JSON dictionaries.\n",
    "To mantain this information and to be able to analyse it better we create 20 new columns of boolean values, one for each possible genre.\n",
    "After this we can also drop the previous genre column."
   ]
  },
  {
   "cell_type": "code",
   "execution_count": 350,
   "metadata": {},
   "outputs": [
    {
     "name": "stderr",
     "output_type": "stream",
     "text": [
      "C:\\Users\\dalma\\AppData\\Local\\Packages\\PythonSoftwareFoundation.Python.3.9_qbz5n2kfra8p0\\LocalCache\\local-packages\\Python39\\site-packages\\pandas\\core\\indexing.py:1732: SettingWithCopyWarning: \n",
      "A value is trying to be set on a copy of a slice from a DataFrame\n",
      "\n",
      "See the caveats in the documentation: https://pandas.pydata.org/pandas-docs/stable/user_guide/indexing.html#returning-a-view-versus-a-copy\n",
      "  self._setitem_single_block(indexer, value, name)\n"
     ]
    }
   ],
   "source": [
    "for genre in different_genres:\n",
    "    metadata_df['genre ' + genre] = 0\n",
    "    for i in range(n):\n",
    "        if genre in metadata_df.genres.iloc[i]:\n",
    "            metadata_df['genre ' + genre].iloc[i] = 1\n",
    "\n",
    "metadata_df = metadata_df.drop('genres', axis=1)"
   ]
  },
  {
   "cell_type": "code",
   "execution_count": 351,
   "metadata": {},
   "outputs": [
    {
     "name": "stdout",
     "output_type": "stream",
     "text": [
      "Warner Bros.                              1226\n",
      "Metro-Goldwyn-Mayer (MGM)                 1021\n",
      "Paramount Pictures                         976\n",
      "Twentieth Century Fox Film Corporation     815\n",
      "Universal Pictures                         810\n",
      "                                          ... \n",
      "Golden Tripod Film Co., Hong Kong            1\n",
      "I Lied About Everything Picture              1\n",
      "How To Productions                           1\n",
      "WV Films LLC                                 1\n",
      "Pirie Productions                            1\n",
      "Length: 22298, dtype: int64\n",
      "26\n",
      "22298\n"
     ]
    },
    {
     "data": {
      "text/plain": [
       "5"
      ]
     },
     "execution_count": 351,
     "metadata": {},
     "output_type": "execute_result"
    }
   ],
   "source": [
    "n = len(metadata_df.production_companies)\n",
    "numero = []\n",
    "different_productions = []\n",
    "count = []\n",
    "film_production_company = [[] for i in range(n)]\n",
    "\n",
    "for i in range(n):\n",
    "    try:\n",
    "        list_dict = js.loads(metadata_df.production_companies.iloc[i].replace(\"'\",'\"'))\n",
    "        numero.append(len(list_dict))\n",
    "        for dict in list_dict:\n",
    "            film_production_company[i].append(dict['name'])\n",
    "            count.append(dict['name'])\n",
    "            if dict['name'] not in different_productions: \n",
    "                different_productions.append(dict['name'])\n",
    "    except: pass #some datapoints have problematic encodings for the production companies that raise errors\n",
    "\n",
    "\n",
    "metadata_df['production_companies'] = film_production_company\n",
    "count = pd.Series(count)\n",
    "print(count.value_counts())\n",
    "print(max(numero))\n",
    "print(len(different_productions))\n",
    "sum(count.value_counts()>500)"
   ]
  },
  {
   "cell_type": "markdown",
   "metadata": {},
   "source": [
    "We have found that in the dataset are presented more than 22 thousand different production companies and as many as 26 for a single film!\n",
    "However, only 5 have produced more than 500 films each: to retain some information from this column we are going to create 5 boolean columns, one for each of the largest producing companies and then remove the old producing companies column."
   ]
  },
  {
   "cell_type": "code",
   "execution_count": 352,
   "metadata": {},
   "outputs": [],
   "source": [
    "metadata_df['prod_warner'] = 0\n",
    "metadata_df['prod_mgm'] = 0\n",
    "metadata_df['prod_paramount'] = 0\n",
    "metadata_df['prod_20centuryfox'] = 0\n",
    "metadata_df['prod_universal'] = 0\n",
    "\n",
    "for i in range(n):\n",
    "    if \"Warner Bros.\" in metadata_df.production_companies.iloc[i]: metadata_df.prod_warner.iloc[i] = 1\n",
    "    if \"Metro-Goldwyn-Mayer (MGM)\" in metadata_df.production_companies.iloc[i]: metadata_df.prod_mgm.iloc[i] = 1\n",
    "    if \"Paramount Pictures\" in metadata_df.production_companies.iloc[i]: metadata_df.prod_paramount.iloc[i] = 1\n",
    "    if \"Twentieth Century Fox Film Corporation\" in metadata_df.production_companies.iloc[i]: metadata_df.prod_20centuryfox.iloc[i] = 1\n",
    "    if \"Universal Pictures\" in metadata_df.production_companies.iloc[i]: metadata_df.prod_universal.iloc[i] = 1\n",
    "\n",
    "\n",
    "metadata_df = metadata_df.drop('production_companies', axis=1)"
   ]
  },
  {
   "cell_type": "code",
   "execution_count": 353,
   "metadata": {},
   "outputs": [
    {
     "name": "stdout",
     "output_type": "stream",
     "text": [
      "United States of America                20311\n",
      "United Kingdom                           3961\n",
      "France                                   3725\n",
      "Germany                                  2104\n",
      "Italy                                    2089\n",
      "                                        ...  \n",
      "Kuwait                                      1\n",
      "Martinique                                  1\n",
      "United States Minor Outlying Islands        1\n",
      "Cayman Islands                              1\n",
      "Guinea                                      1\n",
      "Length: 158, dtype: int64\n",
      "25\n",
      "158\n"
     ]
    },
    {
     "data": {
      "text/plain": [
       "7"
      ]
     },
     "execution_count": 353,
     "metadata": {},
     "output_type": "execute_result"
    }
   ],
   "source": [
    "n = len(metadata_df.production_countries)\n",
    "numero = []\n",
    "different_countries = []\n",
    "count = []\n",
    "film_production_country = [[] for i in range(n)]\n",
    "\n",
    "for i in range(n):\n",
    "    try:\n",
    "        list_dict = js.loads(metadata_df.production_countries.iloc[i].replace(\"'\",'\"')) # the difference between ' and \" generated errors\n",
    "        numero.append(len(list_dict))\n",
    "        for dict in list_dict:\n",
    "            film_production_country[i].append(dict['name'])\n",
    "            count.append(dict['name'])\n",
    "            if dict['name'] not in different_countries: \n",
    "                different_countries.append(dict['name'])\n",
    "    except: pass\n",
    "\n",
    "metadata_df['production_countries'] = film_production_country\n",
    "count = pd.Series(count)\n",
    "print(count.value_counts())\n",
    "print(max(numero))\n",
    "print(len(different_countries))\n",
    "sum(count.value_counts()>1000)"
   ]
  },
  {
   "cell_type": "markdown",
   "metadata": {},
   "source": [
    "We can see that 158 different possible producing countries exist in the dataframe and that a single film can have up to 25 different producing countries. But at the same time, some countries produced a very large number of films compared to the rest: as we did before we are going to create 7 boolean columns, one for each of the countries that have produced more than 1000 movies in this dataset."
   ]
  },
  {
   "cell_type": "code",
   "execution_count": 354,
   "metadata": {},
   "outputs": [],
   "source": [
    "metadata_df['country_us'] = 0\n",
    "metadata_df['country_uk'] = 0\n",
    "metadata_df['country_fr'] = 0\n",
    "metadata_df['country_ge'] = 0\n",
    "metadata_df['country_it'] = 0\n",
    "metadata_df['country_ca'] = 0\n",
    "metadata_df['country_ja'] = 0\n",
    "\n",
    "for i in range(n):\n",
    "    if \"United States of America\" in metadata_df.production_countries.iloc[i]: metadata_df.country_us.iloc[i] = 1\n",
    "    if \"United Kingdom\" in metadata_df.production_countries.iloc[i]: metadata_df.country_uk.iloc[i] = 1\n",
    "    if \"France\" in metadata_df.production_countries.iloc[i]: metadata_df.country_fr.iloc[i] = 1\n",
    "    if \"Germany\" in metadata_df.production_countries.iloc[i]: metadata_df.country_ge.iloc[i] = 1\n",
    "    if \"Italy\" in metadata_df.production_countries.iloc[i]: metadata_df.country_it.iloc[i] = 1\n",
    "    if \"Canada\" in metadata_df.production_countries.iloc[i]: metadata_df.country_ca.iloc[i] = 1\n",
    "    if \"Japan\" in metadata_df.production_countries.iloc[i]: metadata_df.country_ja.iloc[i] = 1\n",
    "\n",
    "\n",
    "metadata_df = metadata_df.drop('production_countries', axis=1)"
   ]
  },
  {
   "cell_type": "markdown",
   "metadata": {},
   "source": [
    "The only column left with Json values is the spoken_languages column: given that some information about the language of the film is already given by the original_language column, we are eventually going to discard this feature. As we can see that the original_language column has some null values, we are going to substitute the first spoken language as the original language to fill the NAs."
   ]
  },
  {
   "cell_type": "code",
   "execution_count": 355,
   "metadata": {},
   "outputs": [
    {
     "data": {
      "text/plain": [
       "en    30832\n",
       "fr     2272\n",
       "it     1437\n",
       "ja     1328\n",
       "de      972\n",
       "es      943\n",
       "ru      747\n",
       "hi      485\n",
       "ko      436\n",
       "zh      395\n",
       "Name: original_language, dtype: int64"
      ]
     },
     "execution_count": 355,
     "metadata": {},
     "output_type": "execute_result"
    }
   ],
   "source": [
    "for i in metadata_df[metadata_df.original_language.isna()].index:\n",
    "    metadata_df['original_language'].loc[i] = js.loads(metadata_df.spoken_languages.loc[i].replace(\"'\",'\"'))[0]['iso_639_1']\n",
    "\n",
    "metadata_df = metadata_df.drop('spoken_languages', axis=1)\n",
    "metadata_df.original_language.value_counts()[0:10]"
   ]
  },
  {
   "cell_type": "markdown",
   "metadata": {},
   "source": [
    "We can see that the original_language column has 7 languages with more than 500 films. We are once again going to create 7 columns of boolean values to transform this categorical data into numerical data."
   ]
  },
  {
   "cell_type": "code",
   "execution_count": 356,
   "metadata": {},
   "outputs": [],
   "source": [
    "metadata_df['language_en'] = 0\n",
    "metadata_df['language_fr'] = 0\n",
    "metadata_df['language_it'] = 0\n",
    "metadata_df['language_ja'] = 0\n",
    "metadata_df['language_de'] = 0\n",
    "metadata_df['language_es'] = 0\n",
    "metadata_df['language_ru'] = 0\n",
    "\n",
    "for i in range(n):\n",
    "    if metadata_df.original_language.iloc[i] == 'en': metadata_df.language_en.iloc[i] = 1\n",
    "    if metadata_df.original_language.iloc[i] == 'fr': metadata_df.language_fr.iloc[i] = 1\n",
    "    if metadata_df.original_language.iloc[i] == 'it': metadata_df.language_it.iloc[i] = 1\n",
    "    if metadata_df.original_language.iloc[i] == 'ja': metadata_df.language_ja.iloc[i] = 1\n",
    "    if metadata_df.original_language.iloc[i] == 'de': metadata_df.language_de.iloc[i] = 1\n",
    "    if metadata_df.original_language.iloc[i] == 'es': metadata_df.language_es.iloc[i] = 1\n",
    "    if metadata_df.original_language.iloc[i] == 'ru': metadata_df.language_ru.iloc[i] = 1\n",
    "\n",
    "\n",
    "metadata_df = metadata_df.drop('original_language', axis=1)"
   ]
  },
  {
   "cell_type": "code",
   "execution_count": 357,
   "metadata": {},
   "outputs": [
    {
     "data": {
      "text/html": [
       "<div>\n",
       "<style scoped>\n",
       "    .dataframe tbody tr th:only-of-type {\n",
       "        vertical-align: middle;\n",
       "    }\n",
       "\n",
       "    .dataframe tbody tr th {\n",
       "        vertical-align: top;\n",
       "    }\n",
       "\n",
       "    .dataframe thead th {\n",
       "        text-align: right;\n",
       "    }\n",
       "</style>\n",
       "<table border=\"1\" class=\"dataframe\">\n",
       "  <thead>\n",
       "    <tr style=\"text-align: right;\">\n",
       "      <th></th>\n",
       "      <th>budget</th>\n",
       "      <th>popularity</th>\n",
       "      <th>revenue</th>\n",
       "      <th>runtime</th>\n",
       "      <th>title</th>\n",
       "      <th>vote_average</th>\n",
       "      <th>vote_count</th>\n",
       "      <th>year</th>\n",
       "      <th>day</th>\n",
       "      <th>genre Animation</th>\n",
       "      <th>...</th>\n",
       "      <th>country_it</th>\n",
       "      <th>country_ca</th>\n",
       "      <th>country_ja</th>\n",
       "      <th>language_en</th>\n",
       "      <th>language_fr</th>\n",
       "      <th>language_it</th>\n",
       "      <th>language_ja</th>\n",
       "      <th>language_de</th>\n",
       "      <th>language_es</th>\n",
       "      <th>language_ru</th>\n",
       "    </tr>\n",
       "  </thead>\n",
       "  <tbody>\n",
       "    <tr>\n",
       "      <th>0</th>\n",
       "      <td>30000000.0</td>\n",
       "      <td>21.946943</td>\n",
       "      <td>373554033.0</td>\n",
       "      <td>81.0</td>\n",
       "      <td>Toy Story</td>\n",
       "      <td>7.7</td>\n",
       "      <td>5415.0</td>\n",
       "      <td>1995</td>\n",
       "      <td>303</td>\n",
       "      <td>1</td>\n",
       "      <td>...</td>\n",
       "      <td>0</td>\n",
       "      <td>0</td>\n",
       "      <td>0</td>\n",
       "      <td>1</td>\n",
       "      <td>0</td>\n",
       "      <td>0</td>\n",
       "      <td>0</td>\n",
       "      <td>0</td>\n",
       "      <td>0</td>\n",
       "      <td>0</td>\n",
       "    </tr>\n",
       "    <tr>\n",
       "      <th>1</th>\n",
       "      <td>65000000.0</td>\n",
       "      <td>17.015539</td>\n",
       "      <td>262797249.0</td>\n",
       "      <td>104.0</td>\n",
       "      <td>Jumanji</td>\n",
       "      <td>6.9</td>\n",
       "      <td>2413.0</td>\n",
       "      <td>1995</td>\n",
       "      <td>349</td>\n",
       "      <td>0</td>\n",
       "      <td>...</td>\n",
       "      <td>0</td>\n",
       "      <td>0</td>\n",
       "      <td>0</td>\n",
       "      <td>1</td>\n",
       "      <td>0</td>\n",
       "      <td>0</td>\n",
       "      <td>0</td>\n",
       "      <td>0</td>\n",
       "      <td>0</td>\n",
       "      <td>0</td>\n",
       "    </tr>\n",
       "    <tr>\n",
       "      <th>2</th>\n",
       "      <td>0.0</td>\n",
       "      <td>11.712900</td>\n",
       "      <td>0.0</td>\n",
       "      <td>101.0</td>\n",
       "      <td>Grumpier Old Men</td>\n",
       "      <td>6.5</td>\n",
       "      <td>92.0</td>\n",
       "      <td>1995</td>\n",
       "      <td>356</td>\n",
       "      <td>0</td>\n",
       "      <td>...</td>\n",
       "      <td>0</td>\n",
       "      <td>0</td>\n",
       "      <td>0</td>\n",
       "      <td>1</td>\n",
       "      <td>0</td>\n",
       "      <td>0</td>\n",
       "      <td>0</td>\n",
       "      <td>0</td>\n",
       "      <td>0</td>\n",
       "      <td>0</td>\n",
       "    </tr>\n",
       "    <tr>\n",
       "      <th>3</th>\n",
       "      <td>16000000.0</td>\n",
       "      <td>3.859495</td>\n",
       "      <td>81452156.0</td>\n",
       "      <td>127.0</td>\n",
       "      <td>Waiting to Exhale</td>\n",
       "      <td>6.1</td>\n",
       "      <td>34.0</td>\n",
       "      <td>1995</td>\n",
       "      <td>356</td>\n",
       "      <td>0</td>\n",
       "      <td>...</td>\n",
       "      <td>0</td>\n",
       "      <td>0</td>\n",
       "      <td>0</td>\n",
       "      <td>1</td>\n",
       "      <td>0</td>\n",
       "      <td>0</td>\n",
       "      <td>0</td>\n",
       "      <td>0</td>\n",
       "      <td>0</td>\n",
       "      <td>0</td>\n",
       "    </tr>\n",
       "    <tr>\n",
       "      <th>4</th>\n",
       "      <td>0.0</td>\n",
       "      <td>8.387519</td>\n",
       "      <td>76578911.0</td>\n",
       "      <td>106.0</td>\n",
       "      <td>Father of the Bride Part II</td>\n",
       "      <td>5.7</td>\n",
       "      <td>173.0</td>\n",
       "      <td>1995</td>\n",
       "      <td>41</td>\n",
       "      <td>0</td>\n",
       "      <td>...</td>\n",
       "      <td>0</td>\n",
       "      <td>0</td>\n",
       "      <td>0</td>\n",
       "      <td>1</td>\n",
       "      <td>0</td>\n",
       "      <td>0</td>\n",
       "      <td>0</td>\n",
       "      <td>0</td>\n",
       "      <td>0</td>\n",
       "      <td>0</td>\n",
       "    </tr>\n",
       "  </tbody>\n",
       "</table>\n",
       "<p>5 rows × 48 columns</p>\n",
       "</div>"
      ],
      "text/plain": [
       "       budget  popularity      revenue  runtime                        title  \\\n",
       "0  30000000.0   21.946943  373554033.0     81.0                    Toy Story   \n",
       "1  65000000.0   17.015539  262797249.0    104.0                      Jumanji   \n",
       "2         0.0   11.712900          0.0    101.0             Grumpier Old Men   \n",
       "3  16000000.0    3.859495   81452156.0    127.0            Waiting to Exhale   \n",
       "4         0.0    8.387519   76578911.0    106.0  Father of the Bride Part II   \n",
       "\n",
       "   vote_average  vote_count  year  day  genre Animation  ...  country_it  \\\n",
       "0           7.7      5415.0  1995  303                1  ...           0   \n",
       "1           6.9      2413.0  1995  349                0  ...           0   \n",
       "2           6.5        92.0  1995  356                0  ...           0   \n",
       "3           6.1        34.0  1995  356                0  ...           0   \n",
       "4           5.7       173.0  1995   41                0  ...           0   \n",
       "\n",
       "   country_ca  country_ja  language_en  language_fr  language_it  language_ja  \\\n",
       "0           0           0            1            0            0            0   \n",
       "1           0           0            1            0            0            0   \n",
       "2           0           0            1            0            0            0   \n",
       "3           0           0            1            0            0            0   \n",
       "4           0           0            1            0            0            0   \n",
       "\n",
       "   language_de  language_es  language_ru  \n",
       "0            0            0            0  \n",
       "1            0            0            0  \n",
       "2            0            0            0  \n",
       "3            0            0            0  \n",
       "4            0            0            0  \n",
       "\n",
       "[5 rows x 48 columns]"
      ]
     },
     "execution_count": 357,
     "metadata": {},
     "output_type": "execute_result"
    }
   ],
   "source": [
    "metadata_df.head()"
   ]
  },
  {
   "cell_type": "markdown",
   "metadata": {},
   "source": [
    "### Joining the two datasets"
   ]
  },
  {
   "cell_type": "markdown",
   "metadata": {},
   "source": [
    "We have explored and cleaned the data from the two datasets, now we want to join them. We are going to join them on the film title and the release year. Before doing this we want to normalize the film titles to avoid problem related to special characters, ecc."
   ]
  },
  {
   "cell_type": "code",
   "execution_count": 358,
   "metadata": {},
   "outputs": [],
   "source": [
    "import unidecode\n",
    "import re\n",
    "\n",
    "def normalize(title):\n",
    "\n",
    "    norm_title = title.lower() #remove capitalization\n",
    "    norm_title = re.sub(\"[\\(\\[].*?[\\)\\]]\", \"\", norm_title)\n",
    "    norm_title = re.sub(r'[^\\w\\s]','', norm_title) #using the re library we remove all punctuation\n",
    "    norm_title = norm_title.replace(' ','') #remove spaces\n",
    "        \n",
    "    norm_title = norm_title.replace('Ã¨','è')\n",
    "    norm_title = norm_title.replace('Ã©','é')\n",
    "    norm_title = norm_title.replace('Ã±','ñ')\n",
    "\n",
    "    norm_title = unidecode.unidecode(norm_title) #this function associates any accented or 'strange' character to its closest approximation into ASCII characters\n",
    "    \n",
    "    return norm_title.strip() #this function removes all leading and trailing whitespaces"
   ]
  },
  {
   "cell_type": "code",
   "execution_count": 359,
   "metadata": {},
   "outputs": [],
   "source": [
    "metadata_df['norm_title'] = metadata_df.title.apply(normalize)\n",
    "oscar_df['norm_title'] = oscar_df.film.apply(normalize)\n",
    "df = pd.merge(metadata_df, oscar_df,  how='left', left_on=['norm_title','year'], right_on = ['norm_title','year_film']) #merge using both the normalized title and the release year"
   ]
  },
  {
   "cell_type": "code",
   "execution_count": 360,
   "metadata": {},
   "outputs": [
    {
     "name": "stdout",
     "output_type": "stream",
     "text": [
      "<class 'pandas.core.frame.DataFrame'>\n",
      "Int64Index: 43248 entries, 0 to 43247\n",
      "Data columns (total 53 columns):\n",
      " #   Column                 Non-Null Count  Dtype  \n",
      "---  ------                 --------------  -----  \n",
      " 0   budget                 43248 non-null  float64\n",
      " 1   popularity             43248 non-null  float64\n",
      " 2   revenue                43248 non-null  float64\n",
      " 3   runtime                43248 non-null  float64\n",
      " 4   title                  43248 non-null  object \n",
      " 5   vote_average           43248 non-null  float64\n",
      " 6   vote_count             43248 non-null  float64\n",
      " 7   year                   43248 non-null  int64  \n",
      " 8   day                    43248 non-null  int64  \n",
      " 9   genre Animation        43248 non-null  int64  \n",
      " 10  genre Comedy           43248 non-null  int64  \n",
      " 11  genre Family           43248 non-null  int64  \n",
      " 12  genre Adventure        43248 non-null  int64  \n",
      " 13  genre Fantasy          43248 non-null  int64  \n",
      " 14  genre Romance          43248 non-null  int64  \n",
      " 15  genre Drama            43248 non-null  int64  \n",
      " 16  genre Action           43248 non-null  int64  \n",
      " 17  genre Crime            43248 non-null  int64  \n",
      " 18  genre Thriller         43248 non-null  int64  \n",
      " 19  genre Horror           43248 non-null  int64  \n",
      " 20  genre History          43248 non-null  int64  \n",
      " 21  genre Science Fiction  43248 non-null  int64  \n",
      " 22  genre Mystery          43248 non-null  int64  \n",
      " 23  genre War              43248 non-null  int64  \n",
      " 24  genre Foreign          43248 non-null  int64  \n",
      " 25  genre Music            43248 non-null  int64  \n",
      " 26  genre Documentary      43248 non-null  int64  \n",
      " 27  genre Western          43248 non-null  int64  \n",
      " 28  genre TV Movie         43248 non-null  int64  \n",
      " 29  prod_warner            43248 non-null  int64  \n",
      " 30  prod_mgm               43248 non-null  int64  \n",
      " 31  prod_paramount         43248 non-null  int64  \n",
      " 32  prod_20centuryfox      43248 non-null  int64  \n",
      " 33  prod_universal         43248 non-null  int64  \n",
      " 34  country_us             43248 non-null  int64  \n",
      " 35  country_uk             43248 non-null  int64  \n",
      " 36  country_fr             43248 non-null  int64  \n",
      " 37  country_ge             43248 non-null  int64  \n",
      " 38  country_it             43248 non-null  int64  \n",
      " 39  country_ca             43248 non-null  int64  \n",
      " 40  country_ja             43248 non-null  int64  \n",
      " 41  language_en            43248 non-null  int64  \n",
      " 42  language_fr            43248 non-null  int64  \n",
      " 43  language_it            43248 non-null  int64  \n",
      " 44  language_ja            43248 non-null  int64  \n",
      " 45  language_de            43248 non-null  int64  \n",
      " 46  language_es            43248 non-null  int64  \n",
      " 47  language_ru            43248 non-null  int64  \n",
      " 48  norm_title             43248 non-null  object \n",
      " 49  year_film              2832 non-null   float64\n",
      " 50  winner                 2832 non-null   float64\n",
      " 51  nominations            2832 non-null   float64\n",
      " 52  film                   2832 non-null   object \n",
      "dtypes: float64(9), int64(41), object(3)\n",
      "memory usage: 17.8+ MB\n"
     ]
    }
   ],
   "source": [
    "df.info()"
   ]
  },
  {
   "cell_type": "markdown",
   "metadata": {},
   "source": [
    "Unfortunately, as we can see from the information about df, out of all 4770, only 2849 nominated movies were found in the metadata dataset. This could be due to problems in the titles of the films that we weren't able to solve through normalization and also because most of the movies in the metadata dataset are more recent, so the films nominated in the earlier Oscar years could be missing."
   ]
  },
  {
   "cell_type": "code",
   "execution_count": 361,
   "metadata": {},
   "outputs": [
    {
     "data": {
      "text/plain": [
       "<function matplotlib.pyplot.show(close=None, block=None)>"
      ]
     },
     "execution_count": 361,
     "metadata": {},
     "output_type": "execute_result"
    },
    {
     "data": {
      "image/png": "[encoded data removed]",
      "text/plain": [
       "<Figure size 432x288 with 1 Axes>"
      ]
     },
     "metadata": {
      "needs_background": "light"
     },
     "output_type": "display_data"
    }
   ],
   "source": [
    "found_years = df[~df.film.isna()].year\n",
    "not_found_years = oscar_df.year_film.value_counts() - found_years.value_counts()\n",
    "plt.plot(not_found_years.index,not_found_years.values,20)\n",
    "plt.xlim([1920, 2020])\n",
    "plt.show"
   ]
  },
  {
   "cell_type": "markdown",
   "metadata": {},
   "source": [
    "I fill the NA values in the complete df, drop the unnecessary columns and create two new columns that we'll use to analyse the data."
   ]
  },
  {
   "cell_type": "code",
   "execution_count": 362,
   "metadata": {},
   "outputs": [],
   "source": [
    "df.winner = df.winner.fillna(0)\n",
    "df.nominations = df.nominations.fillna(0)\n",
    "df = df.drop(['norm_title','year_film','film'], axis=1)\n",
    "\n",
    "df['nominated_at_least_once'] = df.nominations>0\n",
    "df['won_at_least_once'] = df.winner>0\n",
    "\n",
    "df['nominated_at_least_once'].replace( { True:1, False:0}, inplace=True )\n",
    "df['won_at_least_once'].replace( { True:1, False:0}, inplace=True )\n",
    "df.popularity = df.popularity.apply(lambda x:float(x))\n",
    "\n",
    "df.to_csv('model_df.csv', index=False)"
   ]
  },
  {
   "cell_type": "markdown",
   "metadata": {},
   "source": [
    "In the last commented line we exported the final df in order to upload it to the streamlit file to develop the predictive model without having to wait for the preprocessing of the data."
   ]
  }
 ],
 "metadata": {
  "interpreter": {
   "hash": "a4e4979654056fd51db36ce3060b38c48cc2b8ec3673308cca6880e951a92171"
  },
  "kernelspec": {
   "display_name": "Python 3.9.10 64-bit (windows store)",
   "language": "python",
   "name": "python3"
  },
  "language_info": {
   "codemirror_mode": {
    "name": "ipython",
    "version": 3
   },
   "file_extension": ".py",
   "mimetype": "text/x-python",
   "name": "python",
   "nbconvert_exporter": "python",
   "pygments_lexer": "ipython3",
   "version": "3.9.10"
  },
  "orig_nbformat": 4
 },
 "nbformat": 4,
 "nbformat_minor": 2
}
